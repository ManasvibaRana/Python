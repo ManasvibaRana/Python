{
 "cells": [
  {
   "cell_type": "markdown",
   "metadata": {},
   "source": [
    "# Error \n",
    "\n",
    "1. Syntax error\n",
    "2. Exceptions\n",
    "\n",
    "\n",
    "* Error are problems in program due to which program will stop the execution.\n",
    "* Exception are raised when some internal events occurs which change the flow of program.\n",
    "* When exception occurs,python will stop and generate error message."
   ]
  },
  {
   "cell_type": "code",
   "execution_count": 8,
   "metadata": {},
   "outputs": [
    {
     "name": "stdout",
     "output_type": "stream",
     "text": [
      "Exception Occured\n",
      "always works\n",
      "hy\n"
     ]
    }
   ],
   "source": [
    "def div(a,b):\n",
    "    return a/b\n",
    "\n",
    "try : \n",
    "    print(div(5,0))  \n",
    "except :\n",
    "    print(\"Exception Occured\")\n",
    "else : \n",
    "    print(\"No exception\")  # works when try part not genrate any exception\n",
    "finally : \n",
    "    print(\"always works\")\n",
    "    \n",
    "print(\"hy\")    "
   ]
  },
  {
   "cell_type": "code",
   "execution_count": 10,
   "metadata": {},
   "outputs": [
    {
     "name": "stdout",
     "output_type": "stream",
     "text": [
      "division by zero\n",
      "always works\n",
      "hy\n"
     ]
    }
   ],
   "source": [
    "def div(a,b):\n",
    "    return a/b\n",
    "\n",
    "try : \n",
    "    print(div(5,0))  \n",
    "except Exception as e:\n",
    "    print(e)\n",
    "else : \n",
    "    print(\"No exception\")  # works when try part not genrate any exception\n",
    "finally : \n",
    "    print(\"always works\")\n",
    "    \n",
    "print(\"hy\")    "
   ]
  },
  {
   "cell_type": "code",
   "execution_count": 2,
   "metadata": {},
   "outputs": [
    {
     "name": "stdout",
     "output_type": "stream",
     "text": [
      "5\n",
      "5.0\n",
      "list index out of range\n"
     ]
    }
   ],
   "source": [
    "\n",
    "try:\n",
    "    \n",
    "    x= 5\n",
    "\n",
    "    f = open(\"evenodd\",\"r\") #FileNotFoundError\n",
    "    print(x) #name error\n",
    "    print(5/1) # divide by zero\n",
    "    l = [1,2,3]\n",
    "    l[100] #index error\n",
    "    \n",
    "except FileNotFoundError:   \n",
    "    print(\"File not found\")\n",
    "except NameError:   \n",
    "    print(\"Variable not defined\")    \n",
    "except ZeroDivisionError :   \n",
    "    print(\"can't divide by zero\")    \n",
    "except Exception as e:\n",
    "    print(e)"
   ]
  },
  {
   "cell_type": "code",
   "execution_count": 6,
   "metadata": {},
   "outputs": [
    {
     "name": "stdout",
     "output_type": "stream",
     "text": [
      "name 'c' is not defined\n"
     ]
    }
   ],
   "source": [
    "a = 10\n",
    "b = 0\n",
    "\n",
    "try :\n",
    "    d = a /g\n",
    "    print(d)\n",
    "except (NameError,ZeroDivisionError) as obj:\n",
    "    print(obj)"
   ]
  },
  {
   "cell_type": "code",
   "execution_count": 7,
   "metadata": {},
   "outputs": [
    {
     "ename": "TypeError",
     "evalue": "a should be int",
     "output_type": "error",
     "traceback": [
      "\u001b[1;31m---------------------------------------------------------------------------\u001b[0m",
      "\u001b[1;31mTypeError\u001b[0m                                 Traceback (most recent call last)",
      "\u001b[1;32m<ipython-input-7-56192b1ac768>\u001b[0m in \u001b[0;36m<module>\u001b[1;34m\u001b[0m\n\u001b[0;32m     10\u001b[0m \u001b[1;33m\u001b[0m\u001b[0m\n\u001b[0;32m     11\u001b[0m \u001b[1;33m\u001b[0m\u001b[0m\n\u001b[1;32m---> 12\u001b[1;33m \u001b[0mprint\u001b[0m\u001b[1;33m(\u001b[0m\u001b[0madd\u001b[0m\u001b[1;33m(\u001b[0m\u001b[1;34m\"ABC\"\u001b[0m\u001b[1;33m,\u001b[0m\u001b[1;34m\"XYZ\"\u001b[0m\u001b[1;33m)\u001b[0m\u001b[1;33m)\u001b[0m\u001b[1;33m\u001b[0m\u001b[1;33m\u001b[0m\u001b[0m\n\u001b[0m",
      "\u001b[1;32m<ipython-input-7-56192b1ac768>\u001b[0m in \u001b[0;36madd\u001b[1;34m(a, b)\u001b[0m\n\u001b[0;32m      3\u001b[0m \u001b[1;32mdef\u001b[0m \u001b[0madd\u001b[0m\u001b[1;33m(\u001b[0m\u001b[0ma\u001b[0m\u001b[1;33m,\u001b[0m\u001b[0mb\u001b[0m\u001b[1;33m)\u001b[0m\u001b[1;33m:\u001b[0m\u001b[1;33m\u001b[0m\u001b[1;33m\u001b[0m\u001b[0m\n\u001b[0;32m      4\u001b[0m     \u001b[1;32mif\u001b[0m \u001b[0mtype\u001b[0m\u001b[1;33m(\u001b[0m\u001b[0ma\u001b[0m\u001b[1;33m)\u001b[0m \u001b[1;33m==\u001b[0m \u001b[0mstr\u001b[0m\u001b[1;33m:\u001b[0m\u001b[1;33m\u001b[0m\u001b[1;33m\u001b[0m\u001b[0m\n\u001b[1;32m----> 5\u001b[1;33m         \u001b[1;32mraise\u001b[0m \u001b[0mTypeError\u001b[0m\u001b[1;33m(\u001b[0m\u001b[1;34m\"a should be int\"\u001b[0m\u001b[1;33m)\u001b[0m\u001b[1;33m\u001b[0m\u001b[1;33m\u001b[0m\u001b[0m\n\u001b[0m\u001b[0;32m      6\u001b[0m     \u001b[1;32mif\u001b[0m \u001b[0mtype\u001b[0m\u001b[1;33m(\u001b[0m\u001b[0mb\u001b[0m\u001b[1;33m)\u001b[0m \u001b[1;33m==\u001b[0m \u001b[0mstr\u001b[0m\u001b[1;33m:\u001b[0m\u001b[1;33m\u001b[0m\u001b[1;33m\u001b[0m\u001b[0m\n\u001b[0;32m      7\u001b[0m         \u001b[1;32mraise\u001b[0m \u001b[0mTypeError\u001b[0m\u001b[1;33m(\u001b[0m\u001b[1;34m\"b should be int\"\u001b[0m\u001b[1;33m)\u001b[0m\u001b[1;33m\u001b[0m\u001b[1;33m\u001b[0m\u001b[0m\n",
      "\u001b[1;31mTypeError\u001b[0m: a should be int"
     ]
    }
   ],
   "source": [
    "#Raise an exception \n",
    "\n",
    "def add(a,b):\n",
    "    if type(a) == str:\n",
    "        raise TypeError(\"a should be int\")\n",
    "    if type(b) == str:\n",
    "        raise TypeError(\"b should be int\")    \n",
    "        \n",
    "    return a + b\n",
    "\n",
    "\n",
    "print(add(\"ABC\",\"XYZ\"))"
   ]
  },
  {
   "cell_type": "code",
   "execution_count": 11,
   "metadata": {},
   "outputs": [
    {
     "ename": "TypeError",
     "evalue": "a should be int",
     "output_type": "error",
     "traceback": [
      "\u001b[1;31m---------------------------------------------------------------------------\u001b[0m",
      "\u001b[1;31mTypeError\u001b[0m                                 Traceback (most recent call last)",
      "\u001b[1;32m<ipython-input-11-7882b233ad93>\u001b[0m in \u001b[0;36m<module>\u001b[1;34m\u001b[0m\n\u001b[0;32m     10\u001b[0m \u001b[1;33m\u001b[0m\u001b[0m\n\u001b[0;32m     11\u001b[0m \u001b[1;33m\u001b[0m\u001b[0m\n\u001b[1;32m---> 12\u001b[1;33m \u001b[0mprint\u001b[0m\u001b[1;33m(\u001b[0m\u001b[0madd\u001b[0m\u001b[1;33m(\u001b[0m\u001b[1;34m\"XYZ\"\u001b[0m\u001b[1;33m,\u001b[0m\u001b[1;36m10\u001b[0m\u001b[1;33m)\u001b[0m\u001b[1;33m)\u001b[0m\u001b[1;33m\u001b[0m\u001b[1;33m\u001b[0m\u001b[0m\n\u001b[0m",
      "\u001b[1;32m<ipython-input-11-7882b233ad93>\u001b[0m in \u001b[0;36madd\u001b[1;34m(a, b)\u001b[0m\n\u001b[0;32m      3\u001b[0m \u001b[1;32mdef\u001b[0m \u001b[0madd\u001b[0m\u001b[1;33m(\u001b[0m\u001b[0ma\u001b[0m\u001b[1;33m,\u001b[0m\u001b[0mb\u001b[0m\u001b[1;33m)\u001b[0m\u001b[1;33m:\u001b[0m\u001b[1;33m\u001b[0m\u001b[1;33m\u001b[0m\u001b[0m\n\u001b[0;32m      4\u001b[0m     \u001b[1;32mif\u001b[0m \u001b[0mtype\u001b[0m\u001b[1;33m(\u001b[0m\u001b[0ma\u001b[0m\u001b[1;33m)\u001b[0m \u001b[1;33m==\u001b[0m \u001b[0mstr\u001b[0m\u001b[1;33m:\u001b[0m\u001b[1;33m\u001b[0m\u001b[1;33m\u001b[0m\u001b[0m\n\u001b[1;32m----> 5\u001b[1;33m         \u001b[1;32mraise\u001b[0m \u001b[0mTypeError\u001b[0m\u001b[1;33m(\u001b[0m\u001b[1;34m\"a should be int\"\u001b[0m\u001b[1;33m)\u001b[0m\u001b[1;33m\u001b[0m\u001b[1;33m\u001b[0m\u001b[0m\n\u001b[0m\u001b[0;32m      6\u001b[0m     \u001b[1;32mif\u001b[0m \u001b[0mtype\u001b[0m\u001b[1;33m(\u001b[0m\u001b[0mb\u001b[0m\u001b[1;33m)\u001b[0m \u001b[1;33m==\u001b[0m \u001b[0mstr\u001b[0m\u001b[1;33m:\u001b[0m\u001b[1;33m\u001b[0m\u001b[1;33m\u001b[0m\u001b[0m\n\u001b[0;32m      7\u001b[0m         \u001b[1;32mraise\u001b[0m \u001b[0mTypeError\u001b[0m\u001b[1;33m(\u001b[0m\u001b[1;34m\"b should be int\"\u001b[0m\u001b[1;33m)\u001b[0m\u001b[1;33m\u001b[0m\u001b[1;33m\u001b[0m\u001b[0m\n",
      "\u001b[1;31mTypeError\u001b[0m: a should be int"
     ]
    }
   ],
   "source": [
    "#Raise an exception \n",
    "\n",
    "def add(a,b):\n",
    "    if type(a) == str:\n",
    "        raise TypeError(\"a should be int\")\n",
    "    if type(b) == str:\n",
    "        raise TypeError(\"b should be int\")    \n",
    "        \n",
    "    return a + b\n",
    "\n",
    "\n",
    "print(add(10,\"XYZ\"))"
   ]
  },
  {
   "cell_type": "code",
   "execution_count": 12,
   "metadata": {},
   "outputs": [
    {
     "ename": "TypeError",
     "evalue": "can only concatenate str (not \"int\") to str",
     "output_type": "error",
     "traceback": [
      "\u001b[1;31m---------------------------------------------------------------------------\u001b[0m",
      "\u001b[1;31mTypeError\u001b[0m                                 Traceback (most recent call last)",
      "\u001b[1;32m<ipython-input-12-bed5ba943870>\u001b[0m in \u001b[0;36m<module>\u001b[1;34m\u001b[0m\n\u001b[0;32m      3\u001b[0m \u001b[1;33m\u001b[0m\u001b[0m\n\u001b[0;32m      4\u001b[0m \u001b[1;33m\u001b[0m\u001b[0m\n\u001b[1;32m----> 5\u001b[1;33m \u001b[0mprint\u001b[0m\u001b[1;33m(\u001b[0m\u001b[0madd\u001b[0m\u001b[1;33m(\u001b[0m\u001b[1;34m\"xys\"\u001b[0m\u001b[1;33m,\u001b[0m\u001b[1;36m10\u001b[0m\u001b[1;33m)\u001b[0m\u001b[1;33m)\u001b[0m\u001b[1;33m\u001b[0m\u001b[1;33m\u001b[0m\u001b[0m\n\u001b[0m",
      "\u001b[1;32m<ipython-input-12-bed5ba943870>\u001b[0m in \u001b[0;36madd\u001b[1;34m(a, b)\u001b[0m\n\u001b[0;32m      1\u001b[0m \u001b[1;32mdef\u001b[0m \u001b[0madd\u001b[0m\u001b[1;33m(\u001b[0m\u001b[0ma\u001b[0m\u001b[1;33m,\u001b[0m\u001b[0mb\u001b[0m\u001b[1;33m)\u001b[0m\u001b[1;33m:\u001b[0m\u001b[1;33m\u001b[0m\u001b[1;33m\u001b[0m\u001b[0m\n\u001b[1;32m----> 2\u001b[1;33m     \u001b[1;32mreturn\u001b[0m \u001b[0ma\u001b[0m\u001b[1;33m+\u001b[0m\u001b[0mb\u001b[0m\u001b[1;33m\u001b[0m\u001b[1;33m\u001b[0m\u001b[0m\n\u001b[0m\u001b[0;32m      3\u001b[0m \u001b[1;33m\u001b[0m\u001b[0m\n\u001b[0;32m      4\u001b[0m \u001b[1;33m\u001b[0m\u001b[0m\n\u001b[0;32m      5\u001b[0m \u001b[0mprint\u001b[0m\u001b[1;33m(\u001b[0m\u001b[0madd\u001b[0m\u001b[1;33m(\u001b[0m\u001b[1;34m\"xys\"\u001b[0m\u001b[1;33m,\u001b[0m\u001b[1;36m10\u001b[0m\u001b[1;33m)\u001b[0m\u001b[1;33m)\u001b[0m\u001b[1;33m\u001b[0m\u001b[1;33m\u001b[0m\u001b[0m\n",
      "\u001b[1;31mTypeError\u001b[0m: can only concatenate str (not \"int\") to str"
     ]
    }
   ],
   "source": [
    "def add(a,b):\n",
    "    return a+b\n",
    "\n",
    "\n",
    "print(add(\"xys\",10))"
   ]
  },
  {
   "cell_type": "markdown",
   "metadata": {},
   "source": [
    "# Custom Exception"
   ]
  },
  {
   "cell_type": "code",
   "execution_count": 15,
   "metadata": {},
   "outputs": [
    {
     "ename": "Manu",
     "evalue": "Personalized error",
     "output_type": "error",
     "traceback": [
      "\u001b[1;31m---------------------------------------------------------------------------\u001b[0m",
      "\u001b[1;31mManu\u001b[0m                                      Traceback (most recent call last)",
      "\u001b[1;32m<ipython-input-15-5be2403f3641>\u001b[0m in \u001b[0;36m<module>\u001b[1;34m\u001b[0m\n\u001b[0;32m     12\u001b[0m     \u001b[1;32mreturn\u001b[0m \u001b[0ma\u001b[0m \u001b[1;33m+\u001b[0m \u001b[0mb\u001b[0m\u001b[1;33m\u001b[0m\u001b[1;33m\u001b[0m\u001b[0m\n\u001b[0;32m     13\u001b[0m \u001b[1;33m\u001b[0m\u001b[0m\n\u001b[1;32m---> 14\u001b[1;33m \u001b[0madd\u001b[0m\u001b[1;33m(\u001b[0m\u001b[1;34m\"abc\"\u001b[0m\u001b[1;33m,\u001b[0m\u001b[1;34m\"xyz\"\u001b[0m\u001b[1;33m)\u001b[0m\u001b[1;33m\u001b[0m\u001b[1;33m\u001b[0m\u001b[0m\n\u001b[0m",
      "\u001b[1;32m<ipython-input-15-5be2403f3641>\u001b[0m in \u001b[0;36madd\u001b[1;34m(a, b)\u001b[0m\n\u001b[0;32m      6\u001b[0m \u001b[1;32mdef\u001b[0m \u001b[0madd\u001b[0m\u001b[1;33m(\u001b[0m\u001b[0ma\u001b[0m\u001b[1;33m,\u001b[0m\u001b[0mb\u001b[0m\u001b[1;33m)\u001b[0m\u001b[1;33m:\u001b[0m\u001b[1;33m\u001b[0m\u001b[1;33m\u001b[0m\u001b[0m\n\u001b[0;32m      7\u001b[0m     \u001b[1;32mif\u001b[0m \u001b[0mtype\u001b[0m\u001b[1;33m(\u001b[0m\u001b[0ma\u001b[0m\u001b[1;33m)\u001b[0m \u001b[1;33m==\u001b[0m \u001b[0mstr\u001b[0m\u001b[1;33m:\u001b[0m\u001b[1;33m\u001b[0m\u001b[1;33m\u001b[0m\u001b[0m\n\u001b[1;32m----> 8\u001b[1;33m         \u001b[1;32mraise\u001b[0m \u001b[0mManu\u001b[0m\u001b[1;33m(\u001b[0m\u001b[1;34m\"Personalized error\"\u001b[0m\u001b[1;33m)\u001b[0m\u001b[1;33m\u001b[0m\u001b[1;33m\u001b[0m\u001b[0m\n\u001b[0m\u001b[0;32m      9\u001b[0m     \u001b[1;32mif\u001b[0m \u001b[0mtype\u001b[0m\u001b[1;33m(\u001b[0m\u001b[0mb\u001b[0m\u001b[1;33m)\u001b[0m \u001b[1;33m==\u001b[0m \u001b[0mstr\u001b[0m\u001b[1;33m:\u001b[0m\u001b[1;33m\u001b[0m\u001b[1;33m\u001b[0m\u001b[0m\n\u001b[0;32m     10\u001b[0m         \u001b[1;32mraise\u001b[0m \u001b[0mTypeError\u001b[0m\u001b[1;33m(\u001b[0m\u001b[1;34m\"b should be int\"\u001b[0m\u001b[1;33m)\u001b[0m\u001b[1;33m\u001b[0m\u001b[1;33m\u001b[0m\u001b[0m\n",
      "\u001b[1;31mManu\u001b[0m: Personalized error"
     ]
    }
   ],
   "source": [
    "class Manu(Exception):\n",
    "    def __init__(self,arg):\n",
    "        self.msg = arg\n",
    "        \n",
    "        \n",
    "def add(a,b):\n",
    "    if type(a) == str:\n",
    "        raise Manu(\"Personalized error\")\n",
    "    if type(b) == str:\n",
    "        raise TypeError(\"b should be int\")    \n",
    "        \n",
    "    return a + b\n",
    "\n",
    "add(\"abc\",\"xyz\")"
   ]
  },
  {
   "cell_type": "code",
   "execution_count": 19,
   "metadata": {},
   "outputs": [
    {
     "name": "stdout",
     "output_type": "stream",
     "text": [
      "Low Balance\n"
     ]
    }
   ],
   "source": [
    "class Manu(Exception):\n",
    "    def __init__(self,arg):\n",
    "        self.msg = arg\n",
    "        \n",
    "        \n",
    "try :\n",
    "    amount = 10000\n",
    "    withdrow = 8500\n",
    "    if (amount-withdrow) <= 2000:\n",
    "        raise Manu(\"Low Balance\")\n",
    "except Exception as e:\n",
    "      print(e)\n",
    "\n"
   ]
  },
  {
   "cell_type": "markdown",
   "metadata": {},
   "source": [
    "# Object oriented programming\n",
    "\n",
    "- Everything in python is class/object "
   ]
  },
  {
   "cell_type": "code",
   "execution_count": 20,
   "metadata": {},
   "outputs": [
    {
     "name": "stdout",
     "output_type": "stream",
     "text": [
      "<class 'int'>\n",
      "<class 'str'>\n",
      "<class 'module'>\n",
      "<class 'type'>\n"
     ]
    }
   ],
   "source": [
    "x = 42\n",
    "print(type(x))\n",
    "\n",
    "y = \"hello\"\n",
    "print(type(y))\n",
    "\n",
    "\n",
    "import math\n",
    "\n",
    "print(type(math))\n",
    "print(type(type))"
   ]
  },
  {
   "cell_type": "markdown",
   "metadata": {},
   "source": [
    "# Class \n",
    "\n",
    "- User Defined data structure that binds data members and methods into a single unit.\n",
    "- Class is a blueprint or code template for object creation.\n",
    "- Using a class, you can  create as many object you want\n",
    "\n",
    "# Object\n",
    "\n",
    "- Object is a an instance of a class.\n",
    "- it is collection of attributes and methods.\n",
    "- it is used to perform actions."
   ]
  },
  {
   "cell_type": "markdown",
   "metadata": {},
   "source": [
    "    class -> person \n",
    "           states -> Name,Gender,Profrssion \n",
    "           behaviour -> work(),study()\n",
    "    p1 -> Name : jassi            \n",
    "          gender : female\n",
    "          profession : engineer\n",
    "          \n",
    "          \n",
    "       \n",
    "       \n",
    "       "
   ]
  },
  {
   "cell_type": "markdown",
   "metadata": {},
   "source": [
    "    class classname : \n",
    "          def __init__(self):\n",
    "             self.value = 10\n",
    "             self.name =\"sn\"\n",
    "             \n",
    "          def methodname(self):\n",
    "              body of method"
   ]
  },
  {
   "cell_type": "code",
   "execution_count": 7,
   "metadata": {},
   "outputs": [
    {
     "name": "stdout",
     "output_type": "stream",
     "text": [
      "Employee Name : John\n",
      "Employee Age : 24\n",
      "Employee Salary : 50000\n",
      "Employee Name : John\n",
      "Employee Age : 24\n",
      "Employee Salary : 50000\n"
     ]
    }
   ],
   "source": [
    "class Employee:\n",
    "    def __init__(self,name,age,salary):\n",
    "        self.name = name\n",
    "        self.age = age\n",
    "        self.salary = salary\n",
    "\n",
    "    @staticmethod\n",
    "    def display():\n",
    "         print(\"Employee Name : \"+\"John\")\n",
    "         print(\"Employee Age : \"+\"24\")\n",
    "         print(\"Employee Salary : \"+\"50000\")\n",
    "        \n",
    "        \n",
    "        \n",
    "emp1 = Employee(\"abc\",34,50000)        \n",
    "emp1.display()\n",
    "emp2 = Employee(\"xyz\",36,60000)        \n",
    "emp2.display()"
   ]
  },
  {
   "cell_type": "markdown",
   "metadata": {},
   "source": [
    "#  Constructor\n",
    "\n",
    "- Uniqe function that gets called automatically when an object is created of a class\n",
    "- The main purpose of a constructor is to initialize or assign values to the data numbers of that class\n",
    "- it cannot return any other value than nme"
   ]
  },
  {
   "cell_type": "code",
   "execution_count": 13,
   "metadata": {},
   "outputs": [
    {
     "name": "stdout",
     "output_type": "stream",
     "text": [
      "Color : Red\n",
      "Model : M5\n",
      "Year : 2005\n"
     ]
    }
   ],
   "source": [
    "class car:\n",
    "    def __init__(self,color,model,year):\n",
    "        self.color = color\n",
    "        self.model = model\n",
    "        self.year = year\n",
    "        \n",
    "        \n",
    "    def display(self):\n",
    "        print(\"Color :\",self.color)\n",
    "        print(\"Model :\",self.model)\n",
    "        print(\"Year :\",self.year)\n",
    "        \n",
    "        \n",
    "car1 = car(\"Red\",\"M5\",\"2005\")   \n",
    "car1.display()"
   ]
  },
  {
   "cell_type": "code",
   "execution_count": 14,
   "metadata": {},
   "outputs": [
    {
     "name": "stdout",
     "output_type": "stream",
     "text": [
      "Name : Harry\n",
      "Salary : 50000\n",
      "Role : Engineer\n",
      "Name : Rohan\n",
      "Salary : 60000\n",
      "Role : Developer\n"
     ]
    }
   ],
   "source": [
    "class Employee:\n",
    "    no_of_leaves = 5\n",
    "    \n",
    "    def print_details(self):\n",
    "        print(\"Name :\",self.name)\n",
    "        print(\"Salary :\", self.salary)\n",
    "        print(\"Role :\",self.role)\n",
    "        \n",
    "harry = Employee()\n",
    "rohan = Employee()\n",
    "\n",
    "harry.name = \"Harry\"\n",
    "harry.salary = 50000\n",
    "harry.role = \"Engineer\"\n",
    "\n",
    "rohan.name = \"Rohan\"\n",
    "rohan.salary = 60000\n",
    "rohan.role = \"Developer\"\n",
    "\n",
    "\n",
    "harry.print_details()\n",
    "rohan.print_details()"
   ]
  },
  {
   "cell_type": "code",
   "execution_count": 16,
   "metadata": {},
   "outputs": [
    {
     "name": "stdout",
     "output_type": "stream",
     "text": [
      "Name : Harry\n",
      "Salary : 50000\n",
      "Role : Engineer\n",
      "Name : Rohan\n",
      "Salary : 60000\n",
      "Role : Devloper\n"
     ]
    }
   ],
   "source": [
    "class Employee:\n",
    "    no_of_leaves = 5\n",
    "    \n",
    "    def __init__(self,name,salary,role):\n",
    "        self.name = name\n",
    "        self.salary = salary\n",
    "        self.role = role\n",
    "    \n",
    "    def print_details(self):\n",
    "        print(\"Name :\",self.name)\n",
    "        print(\"Salary :\", self.salary)\n",
    "        print(\"Role :\",self.role)\n",
    "        \n",
    "        \n",
    "harry = Employee(\"Harry\",50000,\"Engineer\")\n",
    "rohan= Employee(\"Rohan\",60000,\"Devloper\")\n",
    "\n",
    "harry.print_details()\n",
    "rohan.print_details()"
   ]
  },
  {
   "cell_type": "code",
   "execution_count": 20,
   "metadata": {},
   "outputs": [
    {
     "ename": "NameError",
     "evalue": "name 'show' is not defined",
     "output_type": "error",
     "traceback": [
      "\u001b[1;31m---------------------------------------------------------------------------\u001b[0m",
      "\u001b[1;31mNameError\u001b[0m                                 Traceback (most recent call last)",
      "\u001b[1;32m<ipython-input-20-be6b1da6e6a9>\u001b[0m in \u001b[0;36m<module>\u001b[1;34m\u001b[0m\n\u001b[0;32m      7\u001b[0m         \u001b[0mprint\u001b[0m\u001b[1;33m(\u001b[0m\u001b[1;34m\"Value :\"\u001b[0m\u001b[1;33m,\u001b[0m \u001b[0mself\u001b[0m\u001b[1;33m.\u001b[0m\u001b[0mvalue\u001b[0m\u001b[1;33m)\u001b[0m\u001b[1;33m\u001b[0m\u001b[1;33m\u001b[0m\u001b[0m\n\u001b[0;32m      8\u001b[0m \u001b[1;33m\u001b[0m\u001b[0m\n\u001b[1;32m----> 9\u001b[1;33m \u001b[0ma\u001b[0m\u001b[1;33m=\u001b[0m\u001b[0mtest\u001b[0m\u001b[1;33m(\u001b[0m\u001b[1;33m)\u001b[0m\u001b[1;33m\u001b[0m\u001b[1;33m\u001b[0m\u001b[0m\n\u001b[0m\u001b[0;32m     10\u001b[0m \u001b[1;33m\u001b[0m\u001b[0m\n",
      "\u001b[1;32m<ipython-input-20-be6b1da6e6a9>\u001b[0m in \u001b[0;36m__init__\u001b[1;34m(self)\u001b[0m\n\u001b[0;32m      2\u001b[0m     \u001b[1;32mdef\u001b[0m \u001b[0m__init__\u001b[0m\u001b[1;33m(\u001b[0m\u001b[0mself\u001b[0m\u001b[1;33m)\u001b[0m\u001b[1;33m:\u001b[0m\u001b[1;33m\u001b[0m\u001b[1;33m\u001b[0m\u001b[0m\n\u001b[0;32m      3\u001b[0m         \u001b[0mself\u001b[0m\u001b[1;33m.\u001b[0m\u001b[0mvalue\u001b[0m \u001b[1;33m=\u001b[0m\u001b[1;36m50\u001b[0m\u001b[1;33m\u001b[0m\u001b[1;33m\u001b[0m\u001b[0m\n\u001b[1;32m----> 4\u001b[1;33m         \u001b[0mshow\u001b[0m\u001b[1;33m(\u001b[0m\u001b[1;33m)\u001b[0m\u001b[1;33m\u001b[0m\u001b[1;33m\u001b[0m\u001b[0m\n\u001b[0m\u001b[0;32m      5\u001b[0m \u001b[1;33m\u001b[0m\u001b[0m\n\u001b[0;32m      6\u001b[0m     \u001b[1;32mdef\u001b[0m \u001b[0mshow\u001b[0m\u001b[1;33m(\u001b[0m\u001b[0mself\u001b[0m\u001b[1;33m)\u001b[0m\u001b[1;33m:\u001b[0m\u001b[1;33m\u001b[0m\u001b[1;33m\u001b[0m\u001b[0m\n",
      "\u001b[1;31mNameError\u001b[0m: name 'show' is not defined"
     ]
    }
   ],
   "source": [
    "class test:\n",
    "    def __init__(self):\n",
    "        self.value =50\n",
    "        show()\n",
    "        \n",
    "    def show(self):\n",
    "        print(\"Value :\", self.value)\n",
    "        \n",
    "a=test()        \n",
    "        "
   ]
  },
  {
   "cell_type": "code",
   "execution_count": 22,
   "metadata": {},
   "outputs": [
    {
     "name": "stdout",
     "output_type": "stream",
     "text": [
      "Value : 50\n"
     ]
    }
   ],
   "source": [
    "class test:\n",
    "    def __init__(self):\n",
    "        self.value =50\n",
    "        self.show()\n",
    "        \n",
    "    def show(self):\n",
    "        print(\"Value :\", self.value)\n",
    "        \n",
    "a=test()        \n",
    "        "
   ]
  },
  {
   "cell_type": "code",
   "execution_count": 30,
   "metadata": {},
   "outputs": [
    {
     "name": "stdout",
     "output_type": "stream",
     "text": [
      "Address of self : 1824172474272\n",
      "Address of obj : 1824172474272\n",
      "5\n",
      "Address of self : 1824169829904\n",
      "Address of obj : 1824169829904\n",
      "15\n"
     ]
    }
   ],
   "source": [
    "class check:\n",
    "    def __init__(self,m):\n",
    "        print(\"Address of self :\",id(self))\n",
    "        self.m = m\n",
    "        \n",
    "        \n",
    "obj =check(5)\n",
    "print(\"Address of obj :\",id(obj))\n",
    "print(obj.m)\n",
    "\n",
    "obj1 =check(15)\n",
    "print(\"Address of obj :\",id(obj1))\n",
    "print(obj1.m)"
   ]
  },
  {
   "cell_type": "code",
   "execution_count": 32,
   "metadata": {},
   "outputs": [
    {
     "name": "stdout",
     "output_type": "stream",
     "text": [
      "5 5 140711667247008 140711667247008\n",
      "10 5 140711667247168 140711667247008\n",
      "5 5 140711667247008 140711667247008\n",
      "10 5 140711667247168 140711667247008\n"
     ]
    }
   ],
   "source": [
    "class Account():\n",
    "    rate=5\n",
    "    def some_method(self):\n",
    "        print(self.rate,Account.rate,id(self.rate),id(Account.rate))\n",
    "        \n",
    "        self.rate = 10\n",
    "        \n",
    "        print(self.rate,Account.rate,id(self.rate),id(Account.rate))\n",
    "        \n",
    "        \n",
    "a1 = Account()\n",
    "a2 = Account()\n",
    "a1.some_method()\n",
    "a2.some_method()        \n",
    "        "
   ]
  },
  {
   "cell_type": "markdown",
   "metadata": {},
   "source": [
    "# Concept of self and other\n",
    "\n",
    "\n"
   ]
  },
  {
   "cell_type": "code",
   "execution_count": 36,
   "metadata": {},
   "outputs": [
    {
     "name": "stdout",
     "output_type": "stream",
     "text": [
      "20 20\n",
      "20 20\n",
      "Age is same\n",
      "35 20\n",
      "35 20\n",
      "Age is different\n",
      "35 35\n",
      "Age is same\n"
     ]
    }
   ],
   "source": [
    "class Person():\n",
    "    def __init__(self):\n",
    "        self.name = \"John\"\n",
    "        self.age = 20\n",
    "        \n",
    "        \n",
    "    def update(self):\n",
    "        self.age = 35\n",
    "        \n",
    "    def compare(self,other):\n",
    "        print(self.age, other.age)\n",
    "        if self.age == other.age:\n",
    "            print(\"Age is same\")\n",
    "            \n",
    "        else:\n",
    "            print(\"Age is different\")\n",
    "            \n",
    "p1 = Person()\n",
    "p2 = Person()\n",
    "\n",
    "print(p1.age,p2.age)\n",
    "\n",
    "p1.compare(p2)\n",
    "p1.update()\n",
    "print(p1.age,p2.age)\n",
    "\n",
    "p1.compare(p2)\n",
    "\n",
    "p2.update()           \n",
    "p1.compare(p2)    "
   ]
  },
  {
   "cell_type": "markdown",
   "metadata": {},
   "source": [
    "# Destructor\n",
    "\n",
    "- Used to perform the clean up activity before destroying an object such as closing database connections or firehandle.\n",
    "- Python has a garbage collector that handles memory managment automatically.\n",
    "- It cleans up the memory when an object goes out of scope.\n"
   ]
  },
  {
   "cell_type": "code",
   "execution_count": 43,
   "metadata": {},
   "outputs": [
    {
     "name": "stdout",
     "output_type": "stream",
     "text": [
      "Object Destroyed\n",
      "Name : Harry\n",
      "Salary : 50000\n",
      "Role : Engineer\n",
      "Name : Rohan\n",
      "Salary : 60000\n",
      "Role : Devloper\n",
      "Object Destroyed\n"
     ]
    },
    {
     "ename": "NameError",
     "evalue": "name 'rohan' is not defined",
     "output_type": "error",
     "traceback": [
      "\u001b[1;31m---------------------------------------------------------------------------\u001b[0m",
      "\u001b[1;31mNameError\u001b[0m                                 Traceback (most recent call last)",
      "\u001b[1;32m<ipython-input-43-715b10186a12>\u001b[0m in \u001b[0;36m<module>\u001b[1;34m\u001b[0m\n\u001b[0;32m     23\u001b[0m \u001b[1;33m\u001b[0m\u001b[0m\n\u001b[0;32m     24\u001b[0m \u001b[1;32mdel\u001b[0m \u001b[0mrohan\u001b[0m\u001b[1;33m\u001b[0m\u001b[1;33m\u001b[0m\u001b[0m\n\u001b[1;32m---> 25\u001b[1;33m \u001b[0mrohan\u001b[0m\u001b[1;33m.\u001b[0m\u001b[0mprint_details\u001b[0m\u001b[1;33m(\u001b[0m\u001b[1;33m)\u001b[0m\u001b[1;33m\u001b[0m\u001b[1;33m\u001b[0m\u001b[0m\n\u001b[0m",
      "\u001b[1;31mNameError\u001b[0m: name 'rohan' is not defined"
     ]
    }
   ],
   "source": [
    "class Employee:\n",
    "    no_of_leaves = 5\n",
    "    \n",
    "    def __init__(self,name,salary,role):\n",
    "        self.name = name\n",
    "        self.salary = salary\n",
    "        self.role = role\n",
    "    \n",
    "    def __del__(self):\n",
    "        print(\"Object Destroyed\")\n",
    "    \n",
    "    def print_details(self):\n",
    "        print(\"Name :\",self.name)\n",
    "        print(\"Salary :\", self.salary)\n",
    "        print(\"Role :\",self.role)\n",
    "        \n",
    "        \n",
    "harry = Employee(\"Harry\",50000,\"Engineer\")\n",
    "rohan= Employee(\"Rohan\",60000,\"Devloper\")\n",
    "\n",
    "harry.print_details()\n",
    "rohan.print_details()\n",
    "\n",
    "del rohan\n",
    "rohan.print_details()"
   ]
  },
  {
   "cell_type": "markdown",
   "metadata": {},
   "source": [
    "# Class variable VS Instance variable"
   ]
  },
  {
   "cell_type": "code",
   "execution_count": 57,
   "metadata": {},
   "outputs": [
    {
     "name": "stdout",
     "output_type": "stream",
     "text": [
      "yes\n",
      "realme x\n",
      "yes\n"
     ]
    },
    {
     "ename": "TypeError",
     "evalue": "show_model() missing 1 required positional argument: 'self'",
     "output_type": "error",
     "traceback": [
      "\u001b[1;31m---------------------------------------------------------------------------\u001b[0m",
      "\u001b[1;31mTypeError\u001b[0m                                 Traceback (most recent call last)",
      "\u001b[1;32m<ipython-input-57-3da6db6ae333>\u001b[0m in \u001b[0;36m<module>\u001b[1;34m\u001b[0m\n\u001b[0;32m     16\u001b[0m \u001b[0mrealme\u001b[0m\u001b[1;33m.\u001b[0m\u001b[0mshow_model\u001b[0m\u001b[1;33m(\u001b[0m\u001b[1;33m)\u001b[0m\u001b[1;33m\u001b[0m\u001b[1;33m\u001b[0m\u001b[0m\n\u001b[0;32m     17\u001b[0m \u001b[0mMobile\u001b[0m\u001b[1;33m.\u001b[0m\u001b[0mshow\u001b[0m\u001b[1;33m(\u001b[0m\u001b[1;33m)\u001b[0m\u001b[1;33m\u001b[0m\u001b[1;33m\u001b[0m\u001b[0m\n\u001b[1;32m---> 18\u001b[1;33m \u001b[0mMobile\u001b[0m\u001b[1;33m.\u001b[0m\u001b[0mshow_model\u001b[0m\u001b[1;33m(\u001b[0m\u001b[1;33m)\u001b[0m\u001b[1;33m\u001b[0m\u001b[1;33m\u001b[0m\u001b[0m\n\u001b[0m",
      "\u001b[1;31mTypeError\u001b[0m: show_model() missing 1 required positional argument: 'self'"
     ]
    }
   ],
   "source": [
    "class Mobile:\n",
    "    fp = \"yes\"\n",
    "    def __init__(self):\n",
    "        self.model =\"realme x\"\n",
    "        \n",
    "    def show_model(self):\n",
    "        print(self.model)\n",
    "    \n",
    "    @classmethod\n",
    "    def show(cls):\n",
    "        print(cls.fp)\n",
    "        \n",
    "        \n",
    "realme = Mobile()\n",
    "realme.show()\n",
    "realme.show_model()\n",
    "Mobile.show()\n",
    "Mobile.show_model()"
   ]
  },
  {
   "cell_type": "code",
   "execution_count": 47,
   "metadata": {},
   "outputs": [
    {
     "name": "stdout",
     "output_type": "stream",
     "text": [
      "realme x\n",
      "realme x\n"
     ]
    }
   ],
   "source": [
    "class Mobile:\n",
    "    def __init__(self):\n",
    "        self.model =\"realme x\"\n",
    "        \n",
    "    def show_model(self):\n",
    "        print(self.model)\n",
    "        \n",
    "        \n",
    "realme = Mobile()\n",
    "realme.show_model()\n",
    "print(realme.model)        "
   ]
  },
  {
   "cell_type": "code",
   "execution_count": 58,
   "metadata": {},
   "outputs": [
    {
     "name": "stdout",
     "output_type": "stream",
     "text": [
      "Name is : Orange\n",
      "Name is : banana\n",
      "Name is : banana\n"
     ]
    }
   ],
   "source": [
    "class Fruit:\n",
    "    name = \"Orange\"\n",
    "    \n",
    "    @classmethod\n",
    "    def print_name(cls):\n",
    "        print(\"Name is :\",cls.name)\n",
    "        \n",
    "        \n",
    "Fruit.print_name()\n",
    "\n",
    "apple = Fruit()\n",
    "\n",
    "Fruit.name = \"banana\"\n",
    "\n",
    "Fruit.print_name()\n",
    "\n",
    "apple.name = \"Strawberry\"\n",
    "\n",
    "apple.print_name()"
   ]
  },
  {
   "cell_type": "code",
   "execution_count": 59,
   "metadata": {},
   "outputs": [
    {
     "name": "stdout",
     "output_type": "stream",
     "text": [
      "bmw\n"
     ]
    }
   ],
   "source": [
    "class Car:\n",
    "    wheels = 4\n",
    "    \n",
    "    def __init__(self):\n",
    "        self.mileage = 10\n",
    "        self.model = \"bmw\"\n",
    "        \n",
    "c1 = Car()\n",
    "c2 = Car()      \n",
    "\n",
    "c1.mileage = 8\n",
    "\n",
    "print(c1.model)"
   ]
  },
  {
   "cell_type": "code",
   "execution_count": 3,
   "metadata": {},
   "outputs": [
    {
     "name": "stdout",
     "output_type": "stream",
     "text": [
      " How can i help you?\n",
      "            1. Press 1 to create pin\n",
      "            2. Press 2 to change pin\n",
      "            3. Press 3 to check balance\n",
      "            4. Press 4 to withdrow\n",
      "            5. Anything else to exit\n",
      "            1\n",
      "Enter PIN : 22\n",
      "PIN :  22\n",
      " How can i help you?\n",
      "            1. Press 1 to create pin\n",
      "            2. Press 2 to change pin\n",
      "            3. Press 3 to check balance\n",
      "            4. Press 4 to withdrow\n",
      "            5. Anything else to exit\n",
      "            4\n",
      "Enter PIN : 22\n",
      "Availbale balance : 100000\n",
      "Enter Amount foe withdrow : 50000\n",
      "Withdrow Successfully!!!\n",
      "Availbale balance : 47500.0\n",
      "Bank fees :  2500.0\n",
      " How can i help you?\n",
      "            1. Press 1 to create pin\n",
      "            2. Press 2 to change pin\n",
      "            3. Press 3 to check balance\n",
      "            4. Press 4 to withdrow\n",
      "            5. Anything else to exit\n",
      "            5\n"
     ]
    }
   ],
   "source": [
    "#wt a program to create atm and make method to create pin,change pin,check balance, and withdrow.\n",
    "\n",
    "class ATM:\n",
    "    \n",
    "\n",
    "     \n",
    "    def __init__(self):\n",
    "        self.balance = 100000\n",
    "        self.pin = 0\n",
    "        \n",
    "        self.menu()\n",
    "        \n",
    "        \n",
    "    def menu(self):\n",
    "        a = 0\n",
    "        while(a!=1): \n",
    "            uin = input(\"\"\" How can i help you?\n",
    "            1. Press 1 to create pin\n",
    "            2. Press 2 to change pin\n",
    "            3. Press 3 to check balance\n",
    "            4. Press 4 to withdrow\n",
    "            5. Anything else to exit\n",
    "            \"\"\")\n",
    "\n",
    "            if uin == \"1\":\n",
    "                self.pin1()\n",
    "            elif uin == \"2\":\n",
    "                self.update_pin()\n",
    "            elif uin == \"3\":\n",
    "                self.checkbalance() \n",
    "            elif uin == \"4\":\n",
    "                self.widthdrow()    \n",
    "            else :\n",
    "                a = 1\n",
    "        \n",
    "    def pin1(self):\n",
    "         self.pin = int(input(\"Enter PIN : \"))\n",
    "         print(\"PIN : \", self.pin)\n",
    "        \n",
    "    def update_pin(self):\n",
    "        old = int(input(\"Enter PIN : \"))\n",
    "        \n",
    "        if old == self.pin:\n",
    "            self.pin = int(input(\"Enter new PIN : \"))\n",
    "        else :\n",
    "            print(\"Invalid Pin!!\")\n",
    "        \n",
    "    def checkbalance(self):\n",
    "        old = int(input(\"Enter PIN : \"))\n",
    "        \n",
    "        if old == self.pin:\n",
    "             print(\"Availbale balance :\", self.balance )\n",
    "        else :\n",
    "            print(\"Invalid Pin!!\")  \n",
    "        \n",
    "    def widthdrow(self):\n",
    "        old = int(input(\"Enter PIN : \"))\n",
    "        if old == self.pin:\n",
    "            print(\"Availbale balance :\", self.balance )\n",
    "            wd = int(input(\"Enter Amount foe withdrow : \"))\n",
    "            if wd<self.balance : \n",
    "                print(\"Withdrow Successfully!!!\")\n",
    "                ol = wd * 0.05\n",
    "                self.balance = self.balance- wd - ol\n",
    "                print(\"Availbale balance :\", self.balance )\n",
    "                print(\"Bank fees : \",ol)\n",
    "            else:\n",
    "                print(\"Failed!!\")\n",
    "        \n",
    "        else :\n",
    "            print(\"Invalid Pin!!\") \n",
    "    \n",
    "        \n",
    "        \n",
    " \n",
    "a1 = ATM()"
   ]
  },
  {
   "cell_type": "code",
   "execution_count": null,
   "metadata": {},
   "outputs": [],
   "source": []
  }
 ],
 "metadata": {
  "kernelspec": {
   "display_name": "Python 3",
   "language": "python",
   "name": "python3"
  },
  "language_info": {
   "codemirror_mode": {
    "name": "ipython",
    "version": 3
   },
   "file_extension": ".py",
   "mimetype": "text/x-python",
   "name": "python",
   "nbconvert_exporter": "python",
   "pygments_lexer": "ipython3",
   "version": "3.8.5"
  }
 },
 "nbformat": 4,
 "nbformat_minor": 4
}
