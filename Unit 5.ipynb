{
 "cells": [
  {
   "cell_type": "markdown",
   "metadata": {},
   "source": [
    "# Mutable Data Structure\n",
    "\n",
    "* List <br>\n",
    "  -> List is Dynamic because based on our requirement we can increase or decrease the size.<br>\n",
    "  -> square brackets with comma seprator"
   ]
  },
  {
   "cell_type": "code",
   "execution_count": 4,
   "metadata": {},
   "outputs": [
    {
     "name": "stdout",
     "output_type": "stream",
     "text": [
      "Enter [\"d\",\"p\"]\n",
      "['d', 'p']\n"
     ]
    }
   ],
   "source": [
    "l = eval(input(\"Enter \"))\n",
    "print(l)"
   ]
  },
  {
   "cell_type": "markdown",
   "metadata": {},
   "source": [
    "## List Mutability"
   ]
  },
  {
   "cell_type": "code",
   "execution_count": 5,
   "metadata": {},
   "outputs": [
    {
     "name": "stdout",
     "output_type": "stream",
     "text": [
      "[1, 10, 10, 0, 3, 0]\n"
     ]
    }
   ],
   "source": [
    "L =[1,10,2,0,3,0]\n",
    "L[2] =10\n",
    "print(L)"
   ]
  },
  {
   "cell_type": "markdown",
   "metadata": {},
   "source": [
    "## Accessing Elements of list\n",
    " 1. Using Index\n",
    " 2. using slicing"
   ]
  },
  {
   "cell_type": "markdown",
   "metadata": {},
   "source": [
    "## Important functions of List\n",
    "\n",
    "1. len()\n",
    "2. count()\n",
    "3. index()\n",
    "4. append()\n",
    "5. Insert()\n",
    "6. extend()\n",
    "7. remove(value)\n",
    "8. pop() or pop(index)\n",
    "9. clear()\n",
    "10. reverse()\n",
    "11. sort()  or sort(reverse=True)"
   ]
  },
  {
   "cell_type": "code",
   "execution_count": 10,
   "metadata": {},
   "outputs": [
    {
     "name": "stdout",
     "output_type": "stream",
     "text": [
      "8\n",
      "2\n",
      "1\n"
     ]
    }
   ],
   "source": [
    "n =[10,20,30,20,50,60,70,80]\n",
    "\n",
    "print(len(n))\n",
    "print(n.count(20))\n",
    "print(n.index(20))\n",
    "# print(n.index(90)) ValueError: 90 is not in list"
   ]
  },
  {
   "cell_type": "code",
   "execution_count": 7,
   "metadata": {},
   "outputs": [
    {
     "name": "stdout",
     "output_type": "stream",
     "text": [
      "['M', 'N', 'A', 'B', 'c']\n",
      "['M', 'N', 'a', 'c', 'b']\n",
      "['Apple', 'Mango', 'banana']\n",
      "['banana', 'Apple', 'Mango', 'banana']\n",
      "[10, 30, 20, 50, 60, 70, 80]\n",
      "80\n",
      "[10, 30, 20, 50, 60, 70]\n",
      "30\n",
      "[10, 20, 50, 60, 70]\n",
      "[]\n",
      "[80, 5, 60, 50, 40, 8, 2, 10]\n",
      "[2, 5, 8, 10, 40, 50, 60, 80]\n"
     ]
    }
   ],
   "source": [
    "## Append\n",
    "\n",
    "l =[\"M\", \"N\"]\n",
    "l.append(\"A\")\n",
    "l.append(\"B\")\n",
    "l.append(\"c\")\n",
    "\n",
    "print(l)\n",
    "\n",
    "##Inserrt\n",
    "\n",
    "l =[\"M\", \"N\",\"c\"]\n",
    "l.insert(-1,\"a\") ## second last insert \n",
    "l.insert(7,\"b\")\n",
    "\n",
    "print(l)\n",
    "\n",
    "##Extends\n",
    "\n",
    "l1 = ['Apple',\"Mango\"]\n",
    "l2 = ['banana']\n",
    "\n",
    "l1.extend(l2)\n",
    "l2.extend(l1)\n",
    "\n",
    "print(l1)\n",
    "print(l2)\n",
    "\n",
    "## remove\n",
    "l=[10,20,30,20,50,60,70,80]\n",
    "\n",
    "l.remove(20)\n",
    "# l.remove(90) ValueError: list.remove(x): x not in list\n",
    "print(l)\n",
    "\n",
    "##pop\n",
    "\n",
    "print(l.pop())\n",
    "print(l)  #if list is blank then it will give error\n",
    "print(l.pop(1))\n",
    "print(l)\n",
    "\n",
    "##clear\n",
    "\n",
    "l.clear()\n",
    "print(l)\n",
    "\n",
    "##reverse\n",
    "\n",
    "l=[10,2,8,40,50,60,5,80]\n",
    "\n",
    "l.reverse()\n",
    "print(l)\n",
    "\n",
    "##sort\n",
    "\n",
    "l.sort()\n",
    "print(l)\n"
   ]
  },
  {
   "cell_type": "markdown",
   "metadata": {},
   "source": [
    "## Mathematical Oprations\n",
    "\n",
    "* (+) --> Concatenation \n",
    "* (*) --> Repetition"
   ]
  },
  {
   "cell_type": "code",
   "execution_count": 9,
   "metadata": {},
   "outputs": [
    {
     "name": "stdout",
     "output_type": "stream",
     "text": [
      "[1, 2, 3, 4, 5, 6]\n",
      "[1, 2, 3, 4]\n",
      "[1, 2, 3, 1, 2, 3, 1, 2, 3]\n"
     ]
    }
   ],
   "source": [
    "a = [1,2,3]\n",
    "b = [4,5,6]\n",
    "\n",
    "print(a+b)\n",
    "print(a+[4])\n",
    "# print(a+4)TypeError: can only concatenate list (not \"int\") to list\n",
    "\n",
    "print(a*3)"
   ]
  },
  {
   "cell_type": "markdown",
   "metadata": {},
   "source": [
    "## Comparison Oprators for List"
   ]
  },
  {
   "cell_type": "code",
   "execution_count": 15,
   "metadata": {},
   "outputs": [
    {
     "name": "stdout",
     "output_type": "stream",
     "text": [
      "True\n",
      "False\n",
      "True\n",
      "False\n",
      "False\n",
      "True\n",
      "True\n",
      "True\n",
      "True\n",
      "False\n",
      "False\n"
     ]
    }
   ],
   "source": [
    "x = [\"dog\",\"cat\",\"rat\"]\n",
    "y = [\"dog\",\"cat\",\"rat\"]\n",
    "z = [\"Dog\",\"cAt\",\"RAT\"]\n",
    "\n",
    "print(x==y)\n",
    "print(x==z)\n",
    "print(x!=z)\n",
    "     \n",
    "x = [\"dog\",\"cat\",\"rat\"]\n",
    "y = [\"rat\",\"cat\",\"dog\"]   \n",
    "\n",
    "print(x>y)\n",
    "print(x>=y)\n",
    "print(x<y)\n",
    "print(x<=y)\n",
    "\n",
    "x= [50,20,30]\n",
    "y = [40,50,60,100,2500]\n",
    "\n",
    "print(x>y)\n",
    "print(x>=y)\n",
    "print(x<y)\n",
    "print(x<=y)"
   ]
  },
  {
   "cell_type": "markdown",
   "metadata": {},
   "source": [
    "## Membership operators for list\n",
    "1. in\n",
    "2. not in"
   ]
  },
  {
   "cell_type": "code",
   "execution_count": 16,
   "metadata": {},
   "outputs": [
    {
     "name": "stdout",
     "output_type": "stream",
     "text": [
      "True\n",
      "False\n"
     ]
    }
   ],
   "source": [
    "y = [40,50,60,100,2500]\n",
    "\n",
    "print(40 in y)\n",
    "print(50 not in y)"
   ]
  },
  {
   "cell_type": "code",
   "execution_count": 20,
   "metadata": {},
   "outputs": [
    {
     "name": "stdout",
     "output_type": "stream",
     "text": [
      "[10, 20, 30, 40, 50]\n",
      "[10, 20, 30, 40, 50]\n"
     ]
    }
   ],
   "source": [
    "l = [10,20,30,40,50]\n",
    "x=l \n",
    "x[2] = 100\n",
    "print(l)\n",
    "\n",
    "## l.copy() or l[:]\n",
    "\n",
    "l = [10,20,30,40,50]\n",
    "x = l.copy() # or  x=l[:]\n",
    "x[2] = 100\n",
    "print(l)"
   ]
  },
  {
   "cell_type": "markdown",
   "metadata": {},
   "source": [
    "## Nested List"
   ]
  },
  {
   "cell_type": "code",
   "execution_count": 24,
   "metadata": {},
   "outputs": [
    {
     "name": "stdout",
     "output_type": "stream",
     "text": [
      "10\n",
      "40\n",
      "200\n"
     ]
    }
   ],
   "source": [
    "n = [10,20,30,[40,20],[60,70,80,[100,200]]]\n",
    "\n",
    "print(n[0])\n",
    "print(n[3][0])\n",
    "print(n[4][3][1])\n"
   ]
  },
  {
   "cell_type": "markdown",
   "metadata": {},
   "source": [
    "## Nested List as matrix"
   ]
  },
  {
   "cell_type": "code",
   "execution_count": 29,
   "metadata": {},
   "outputs": [
    {
     "name": "stdout",
     "output_type": "stream",
     "text": [
      "10 20 30 \n",
      "40 50 60 \n",
      "70 80 90 \n"
     ]
    }
   ],
   "source": [
    "n = [[10,20,30],[40,50,60],[70,80,90]]\n",
    "\n",
    "for i in n :\n",
    "    for j in i:\n",
    "        print(j , end=\" \")\n",
    "        \n",
    "    print()    "
   ]
  },
  {
   "cell_type": "code",
   "execution_count": 54,
   "metadata": {},
   "outputs": [
    {
     "name": "stdout",
     "output_type": "stream",
     "text": [
      "[[1, 4, 7], [2, 5, 8], [3, 6, 9]]\n"
     ]
    }
   ],
   "source": [
    "n = [[1,2,3],[4,5,6],[7,8,9]]\n",
    "m = []\n",
    "i = 0\n",
    "j =0\n",
    "c=[]\n",
    "while i<len(n) :\n",
    "    p = 0\n",
    "    j = 0\n",
    "    c = []\n",
    "    while j<len(n):\n",
    "        c.append(n[p][i])\n",
    "        j +=1\n",
    "        p = p +1\n",
    "    m.append(c) \n",
    "    i = i+1\n",
    "    \n",
    "print(m)    "
   ]
  },
  {
   "cell_type": "code",
   "execution_count": 51,
   "metadata": {},
   "outputs": [
    {
     "name": "stdout",
     "output_type": "stream",
     "text": [
      "[1, 4, 7]\n",
      "[2, 5, 8]\n",
      "[3, 6, 9]\n"
     ]
    }
   ],
   "source": [
    "n = [[1,2,3],[4,5,6],[7,8,9]]\n",
    "\n",
    "for i in range(len(n[0])):\n",
    "    new = [row[i] for row in n ]\n",
    "    print(new)"
   ]
  },
  {
   "cell_type": "code",
   "execution_count": 59,
   "metadata": {},
   "outputs": [
    {
     "name": "stdout",
     "output_type": "stream",
     "text": [
      "[1, 2, 5]\n"
     ]
    }
   ],
   "source": [
    "#Wt a program to print elements with frequency greater then a given value k \n",
    "\n",
    "l = [1,1,1,1,2,2,2,2,3,3,5,5,5,6,7]\n",
    "k = 2\n",
    "p = []\n",
    "\n",
    "\n",
    "for i in l:\n",
    "    if l.count(i)>k and i not in p:\n",
    "        p.append(i)\n",
    "        \n",
    "print(p)        "
   ]
  },
  {
   "cell_type": "markdown",
   "metadata": {},
   "source": [
    "# Dictionary \n",
    "\n",
    "* Represants a group of object as key-value pairs ex: roll-name <br>\n",
    "* Dupllicate Keys not allowed but values can be duplicated.\n",
    "* Heterogeneous objects are allowed for both keys and values.\n",
    "* Insertion order not preserved.\n",
    "* Mutable\n",
    "* Index and slicing concepts are not applicable,.\n",
    "\n",
    "* d= {10 : \"ryan: , 20 : \"lucky\"}"
   ]
  },
  {
   "cell_type": "code",
   "execution_count": 79,
   "metadata": {},
   "outputs": [
    {
     "name": "stdout",
     "output_type": "stream",
     "text": [
      "<class 'dict'>\n",
      "<class 'set'>\n",
      "{12: 'saksuu', 13: 'pal', 10: 'Manasvi', 11: 'Aduuu'}\n",
      "Manasvi\n",
      "{12: 'saksuu', 13: 'Paluuu', 10: 'Manasvi', 11: 'Aduuu'}\n",
      "{12: 'saksuu', 10: 'Manasvi', 11: 'Aduuu'}\n",
      "{}\n"
     ]
    }
   ],
   "source": [
    "d={} # Or d = dict()\n",
    "s = set()\n",
    "print(type(d))\n",
    "print(type(s))\n",
    "\n",
    "\n",
    "d = dict([(12,\"saksuu\"),(13,\"pal\")])\n",
    "d[10] = \"Manasvi\"\n",
    "d[11] = \"Aduuu\"\n",
    "print(d)\n",
    "print(d[10])\n",
    "\n",
    "# print(d[40]) KeyError: 40\n",
    "d[13] = \"Paluuu\"\n",
    "print(d)\n",
    "del d[13] \n",
    "\n",
    "\n",
    "\n",
    "# del d[15] KeyError: 15\n",
    "print(d)\n",
    "\n",
    "d.clear() # --> ans = {}\n",
    "print(d)\n",
    "\n",
    "d = dict([(12,\"saksuu\"),(13,\"pal\")])\n",
    "del d \n",
    "\n",
    "#print(d) #--> NameError: name 'd' is not defined\n"
   ]
  },
  {
   "cell_type": "markdown",
   "metadata": {},
   "source": [
    "## Dictionary comprehension"
   ]
  },
  {
   "cell_type": "code",
   "execution_count": 81,
   "metadata": {},
   "outputs": [
    {
     "name": "stdout",
     "output_type": "stream",
     "text": [
      "{1: 1, 2: 4, 3: 9, 4: 16, 5: 25}\n"
     ]
    },
    {
     "data": {
      "text/plain": [
       "5"
      ]
     },
     "execution_count": 81,
     "metadata": {},
     "output_type": "execute_result"
    }
   ],
   "source": [
    "sq = {x:x*x for x in range(1,6)}\n",
    "\n",
    "print(sq)\n",
    "\n",
    "len(sq)"
   ]
  },
  {
   "cell_type": "markdown",
   "metadata": {},
   "source": [
    "## Important Fuctions of dictionary\n",
    "1. dict()\n",
    "2. len()\n",
    "3. clear()\n",
    "4. copy()\n",
    "5. update()\n",
    "6. get() --> If not present then ans is None And get(key,value) --> not found then ans = value\n",
    "7. popitem() --> Ans in tuple\n",
    "8. keys()\n",
    "9. values()\n",
    "10. items()\n",
    "11. setdefault()"
   ]
  },
  {
   "cell_type": "code",
   "execution_count": 10,
   "metadata": {},
   "outputs": [
    {
     "name": "stdout",
     "output_type": "stream",
     "text": [
      "{10: 20, 30: 600, 50: 60, 100: 50, 200: 40}\n",
      "None\n",
      "20\n",
      "Guest\n",
      "dict_keys([10, 30, 50, 100, 200])\n",
      "dict_values([20, 600, 60, 50, 40])\n",
      "dict_items([(10, 20), (30, 600), (50, 60), (100, 50), (200, 40)])\n",
      "10\n",
      "30\n",
      "50\n",
      "100\n",
      "200\n",
      "pavan\n",
      "pavan\n",
      "{10: 20, 30: 600, 50: 60, 100: 50, 200: 40, 40: 'pavan'}\n"
     ]
    }
   ],
   "source": [
    "d= {10:20,30:40,50:60}\n",
    "x ={100:50,200:40,30:600}\n",
    "\n",
    "d.update(x)\n",
    "print(d)\n",
    "\n",
    "print(d.get(40))\n",
    "\n",
    "print(d.get(10,\"Guest\"))\n",
    "print(d.get(40,\"Guest\"))\n",
    "\n",
    "\n",
    "# print(d.popitem()) KeyError: 'popitem(): dictionary is empty'\n",
    "\n",
    "print(d.keys())\n",
    "print(d.values())\n",
    "print(d.items())\n",
    "\n",
    "for i in d.keys():\n",
    "    print(i)\n",
    "    \n",
    "print(d.setdefault(40,\"pavan\"))\n",
    "print(d.setdefault(40,\"pav\"))\n",
    "print(d)"
   ]
  },
  {
   "cell_type": "code",
   "execution_count": 105,
   "metadata": {},
   "outputs": [
    {
     "name": "stdout",
     "output_type": "stream",
     "text": [
      "{'dog': 2, 'the': 2, 'quick': 1, 'brown': 1, 'fox': 1, 'jumps': 1, 'over': 1, 'lazy': 1}\n"
     ]
    }
   ],
   "source": [
    "#wt a program that reads the words from paragraph ans stores then as keys in dictionary and count the frequency as value\n",
    "\n",
    "s = \"Dog the quick brown fox jumps over the lazy dog\"\n",
    "\n",
    "s = s.lower()\n",
    "\n",
    "s = s.split(\" \")\n",
    "d = {}\n",
    "for i in s :\n",
    "    if i not in d :   \n",
    "        d[i] = s.count(i) \n",
    "        \n",
    "print(d)        "
   ]
  },
  {
   "cell_type": "code",
   "execution_count": 9,
   "metadata": {},
   "outputs": [
    {
     "name": "stdout",
     "output_type": "stream",
     "text": [
      "{'D': [\"Don't\"], 'w': ['wait'], 'f': ['for', 'feelings'], 'y': ['your'], 't': ['to', 'to', 'take', 'the'], 'c': ['change'], 'a': ['action']}\n"
     ]
    }
   ],
   "source": [
    "#wt a program to create dic with the key as first character and value as list of words starting with tht character\n",
    "s=\"Don't wait for your feelings to change to take the action\"\n",
    "\n",
    "s = s.split(\" \")\n",
    "d={}\n",
    "\n",
    "for i in s:\n",
    "    l=[]                                                        \n",
    "    for j in s:\n",
    "        if i[0] == j[0] :\n",
    "            l.append(j)\n",
    "    d[i[0]] = l;       \n",
    "   \n",
    "\n",
    "print(d)"
   ]
  },
  {
   "cell_type": "markdown",
   "metadata": {},
   "source": [
    "## SET\n",
    "\n",
    "* Unordered, changeable(mutable)\n",
    "* Represent a group of unique values as single entity.\n",
    "* Duplicates are not allowed.\n",
    "* Insertion order is not preserved.\n",
    "* Indexing and slicing not allowed.\n",
    "* Heterogeneous elements allowed.\n",
    "* Curly braces with comma seprator.\n",
    "* Mathematical oprations like union,intersection,difference, etc...\n"
   ]
  },
  {
   "cell_type": "code",
   "execution_count": 17,
   "metadata": {},
   "outputs": [
    {
     "name": "stdout",
     "output_type": "stream",
     "text": [
      "{1, 2, 3, 4, 5, 6, 7, 8}\n",
      "<class 'set'>\n",
      "{14, 15, 20, 23, 26}\n",
      "<class 'set'>\n"
     ]
    }
   ],
   "source": [
    "s = {1,2,2,3,3,3,6,7,8,5,4}\n",
    "\n",
    "print(s)\n",
    "print(type(s))\n",
    "\n",
    "s = {20,26,23,14,15}\n",
    "\n",
    "print(s)\n",
    "print(type(s))"
   ]
  },
  {
   "cell_type": "code",
   "execution_count": 21,
   "metadata": {},
   "outputs": [
    {
     "name": "stdout",
     "output_type": "stream",
     "text": [
      "{1, 3, 4, 5, 6, 9}\n",
      "{'I', 'T', 'E', 'J', 'L'}\n",
      "{1, 2, 3, 4, 5}\n",
      "{40, 10, 20, 30}\n"
     ]
    }
   ],
   "source": [
    "s = set()\n",
    "l = [1,3,6,4,5,9]\n",
    "\n",
    "s = set(l)\n",
    "print(s)\n",
    "\n",
    "x = \"LJIET\"\n",
    "s = set(x)\n",
    "print(s)\n",
    "\n",
    "y = range(1,6)\n",
    "s = set(y)\n",
    "print(s)\n",
    "\n",
    "l= [10,20,30,40,10,20,30]\n",
    "s = set(l)\n",
    "print(s)"
   ]
  },
  {
   "cell_type": "markdown",
   "metadata": {},
   "source": [
    "## Mathematical operations on set\n",
    "\n",
    "1. union() or ( | )\n",
    "2. intersection() or ( & )\n",
    "3. difference() or ( - )\n",
    "4. symmetric_difference() or ( ^ )\n",
    "5. issubset()\n",
    "6. issuperset()"
   ]
  },
  {
   "cell_type": "code",
   "execution_count": 36,
   "metadata": {},
   "outputs": [
    {
     "name": "stdout",
     "output_type": "stream",
     "text": [
      "{40, 10, 50, 20, 60, 30}\n",
      "{40, 10, 50, 20, 60, 30}\n",
      "{40, 30}\n",
      "{40, 30}\n",
      "{10, 20}\n",
      "{50, 60}\n",
      "{10, 50, 20, 60}\n",
      "{10, 50, 20, 60}\n",
      "True\n",
      "False\n",
      "False\n",
      "True\n"
     ]
    }
   ],
   "source": [
    "## Union()\n",
    "\n",
    "x = {10,20,30,40}\n",
    "y = {30,40,50,60}\n",
    "\n",
    "print(x.union(y))\n",
    "print(y | x)\n",
    "\n",
    "## Intersection()\n",
    "\n",
    "print(x.intersection(y))\n",
    "print(x & y)\n",
    "\n",
    "## Difference()\n",
    "\n",
    "print(x.difference(y))\n",
    "print(y-x)\n",
    "\n",
    "## symmetric_difference()\n",
    "\n",
    "print(x.symmetric_difference(y))\n",
    "print(x^y)\n",
    "\n",
    "## subset and superset()\n",
    "\n",
    "x = {\"a\",\"b\",\"c\"}\n",
    "y= {\"f\",\"g\",\"t\",\"a\",\"b\",\"c\"}\n",
    "\n",
    "print(x.issubset(y))\n",
    "print(y.issubset(x))\n",
    "\n",
    "print(x.issuperset(y))\n",
    "print(y.issuperset(x))\n",
    "\n"
   ]
  },
  {
   "cell_type": "markdown",
   "metadata": {},
   "source": [
    "## Membership oprators\n",
    "\n",
    "1. in \n",
    "2. not in"
   ]
  },
  {
   "cell_type": "code",
   "execution_count": 40,
   "metadata": {},
   "outputs": [
    {
     "name": "stdout",
     "output_type": "stream",
     "text": [
      "{'I', 'T', 'E', 'J', 'L'}\n",
      "True\n",
      "False\n"
     ]
    }
   ],
   "source": [
    "s = set('LJIET')\n",
    "print(s)\n",
    "\n",
    "print(\"L\" in s)\n",
    "print(\"I\" not in s)"
   ]
  },
  {
   "cell_type": "markdown",
   "metadata": {},
   "source": [
    "## Important Functions of set\n",
    "\n",
    "1. add(x)\n",
    "2. update(x,y,z)\n",
    "3. copy()\n",
    "4. pop()\n",
    "5. remove(x)\n",
    "6. discard(x)\n",
    "7. clear()"
   ]
  },
  {
   "cell_type": "code",
   "execution_count": 54,
   "metadata": {},
   "outputs": [
    {
     "name": "stdout",
     "output_type": "stream",
     "text": [
      "{40, 10, 20, 30}\n",
      "{1, 2, 3, 4, 5, 70, 40, 10, 12, 14, 16, 50, 18, 20, 60, 30}\n",
      "{1, 2, 3, 4, 5, 70, 10, 12, 14, 16, 18, 20, 30, 100, 40, 50, 60}\n",
      "{1, 2, 3, 4, 5, 70, 40, 10, 12, 14, 16, 50, 18, 20, 60, 30}\n",
      "1\n",
      "{2, 3, 4, 5, 70, 40, 10, 12, 14, 16, 50, 18, 20, 60, 30}\n",
      "{2, 3, 4, 5, 40, 10, 12, 14, 16, 50, 18, 20, 60, 30}\n",
      "None\n",
      "set()\n"
     ]
    }
   ],
   "source": [
    "## add(x)\n",
    "\n",
    "s = {10,20,30}\n",
    "s.add(40)\n",
    "print(s)\n",
    "\n",
    "##update(x,y,z)\n",
    "s = {10,20,30}\n",
    "l = [40,50,60,70]\n",
    "\n",
    "s.update(l,range(1,6),(range(10,20,2)))\n",
    "print(s)\n",
    "\n",
    "#copy()\n",
    "\n",
    "x = s.copy()\n",
    "x.add(100)\n",
    "print(x)\n",
    "print(s)\n",
    "\n",
    "##pop()\n",
    "\n",
    "print(s.pop())\n",
    "print(s)\n",
    "\n",
    "##remove(x)\n",
    "\n",
    "s.remove(70)\n",
    "print(s)\n",
    "\n",
    "# s.remove(0) KeyError: 0\n",
    "\n",
    "## discard()\n",
    "print(s.discard(0))\n",
    "\n",
    "\n",
    "## clear()\n",
    "s.clear()\n",
    "\n",
    "print(s)"
   ]
  },
  {
   "cell_type": "markdown",
   "metadata": {},
   "source": [
    "## Set Comprehension"
   ]
  },
  {
   "cell_type": "code",
   "execution_count": 6,
   "metadata": {},
   "outputs": [
    {
     "name": "stdout",
     "output_type": "stream",
     "text": [
      "{0, 1}\n"
     ]
    }
   ],
   "source": [
    "s = {x*x for x in range(1,-1,-1)}\n",
    "print(s)\n",
    "\n"
   ]
  },
  {
   "cell_type": "markdown",
   "metadata": {},
   "source": [
    "# Frozenset\n",
    "\n"
   ]
  },
  {
   "cell_type": "code",
   "execution_count": 7,
   "metadata": {},
   "outputs": [
    {
     "name": "stdout",
     "output_type": "stream",
     "text": [
      "{'bhfjg', 'banbana', 'apple'}\n"
     ]
    }
   ],
   "source": [
    "x= [\"apple\",\"banbana\"]\n",
    "s = set(x)\n",
    "s.add('bhfjg')\n",
    "print(s)\n",
    "\n",
    "# f = frozenset(x) AttributeError: 'frozenset' object has no attribute 'add'\n",
    "# f.add('bhfjg')\n",
    "# print(s)\n"
   ]
  },
  {
   "cell_type": "code",
   "execution_count": 14,
   "metadata": {},
   "outputs": [
    {
     "name": "stdout",
     "output_type": "stream",
     "text": [
      "Enter list 1 : 12\n",
      "2\n",
      "[]\n"
     ]
    }
   ],
   "source": [
    "#wt a program to find the index at which the elements of two list does not match\n",
    "\n",
    "x = eval(input(\"Enter list 1 : \"))\n",
    "\n",
    "l =[]\n",
    "p = 0\n",
    "print(len(x))\n",
    "if len(x) == len(y) :\n",
    "   \n",
    "    for i in x : \n",
    "        print(i)\n",
    "        \n",
    "        if i == y[i]:\n",
    "            l.append(p)\n",
    "            print(l)\n",
    "    p = p +1\n",
    "\n",
    "print(l)    "
   ]
  },
  {
   "cell_type": "code",
   "execution_count": 17,
   "metadata": {},
   "outputs": [
    {
     "name": "stdout",
     "output_type": "stream",
     "text": [
      "CampusX is best for DS students\n"
     ]
    }
   ],
   "source": [
    "#wt a program to replcace words from dic. given a sttring replcae its words from lookup \n",
    "\n",
    "\n",
    "s = \"CampusX is best for DS students\"\n",
    "d = {\"best\":\"the best channel\",\"DS\" :\"Data-science\"}\n",
    "ans = \"\"\n",
    "s = s.split()\n",
    "\n",
    "for i in s:\n",
    "    if i in d:\n",
    "        ans = ans + d.get(i)+\" \"\n",
    "    else :\n",
    "        ans = ans + i +\" \"\n",
    "        \n",
    "print(ans)        "
   ]
  },
  {
   "cell_type": "code",
   "execution_count": 21,
   "metadata": {},
   "outputs": [
    {
     "name": "stdout",
     "output_type": "stream",
     "text": [
      "[2, 3, [1, 2]]\n"
     ]
    }
   ],
   "source": [
    "l = [1,2,3,[1,2],\"abcd\"]\n",
    "\n",
    "print(l[1:-1:])"
   ]
  },
  {
   "cell_type": "code",
   "execution_count": null,
   "metadata": {},
   "outputs": [],
   "source": []
  }
 ],
 "metadata": {
  "kernelspec": {
   "display_name": "Python 3",
   "language": "python",
   "name": "python3"
  },
  "language_info": {
   "codemirror_mode": {
    "name": "ipython",
    "version": 3
   },
   "file_extension": ".py",
   "mimetype": "text/x-python",
   "name": "python",
   "nbconvert_exporter": "python",
   "pygments_lexer": "ipython3",
   "version": "3.8.5"
  }
 },
 "nbformat": 4,
 "nbformat_minor": 4
}
