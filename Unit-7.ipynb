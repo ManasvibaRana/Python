{
 "cells": [
  {
   "cell_type": "code",
   "execution_count": 8,
   "metadata": {},
   "outputs": [],
   "source": [
    "f1 = open(\"file1.txt\")\n",
    "f2 = open(\"file2.txt\")\n",
    "\n",
    "f3 = open(\"file3.txt\",\"w\")\n",
    "\n",
    "l1=f1.read()\n",
    "l2=f2.read()\n",
    "f1.seek(0)\n",
    "f2.seek(0)\n",
    "\n",
    "\n",
    "for i in range(len(l1)):\n",
    "    s1=f1.readline()\n",
    "    s2=f2.readline()\n",
    "    f3.write(s1)\n",
    "    f3.write(s2)\n",
    "else:\n",
    "    if len(l1)>len(l2):\n",
    "        f3.writelines(f1.readlines())\n",
    "    else:\n",
    "        f3.writelines(f2.readlines())\n",
    "        \n",
    "f3.close()"
   ]
  },
  {
   "cell_type": "markdown",
   "metadata": {},
   "source": [
    "WAP to find the longest word in txt file "
   ]
  },
  {
   "cell_type": "code",
   "execution_count": 14,
   "metadata": {},
   "outputs": [
    {
     "name": "stdout",
     "output_type": "stream",
     "text": [
      "234456def\n"
     ]
    }
   ],
   "source": [
    "f = open(\"file1.txt\")\n",
    "s = f.read().split()\n",
    "s = sorted(s,key=len)\n",
    "print(s[-1]) "
   ]
  },
  {
   "cell_type": "markdown",
   "metadata": {},
   "source": [
    "# Unit-7 Modules and Directories"
   ]
  },
  {
   "cell_type": "code",
   "execution_count": 16,
   "metadata": {},
   "outputs": [
    {
     "name": "stdout",
     "output_type": "stream",
     "text": [
      "Writing demo.txt\n"
     ]
    }
   ],
   "source": [
    "%%writefile demo.txt\n",
    "abc"
   ]
  },
  {
   "cell_type": "markdown",
   "metadata": {},
   "source": [
    "\n",
    "\n",
    "    Module -> contains python definitions and statements\n",
    "           -> define fun,classes and vars"
   ]
  },
  {
   "cell_type": "code",
   "execution_count": 18,
   "metadata": {},
   "outputs": [
    {
     "name": "stdout",
     "output_type": "stream",
     "text": [
      "3.141592653589793\n"
     ]
    }
   ],
   "source": [
    "import math\n",
    "dir(math)\n",
    "print(math.pi)"
   ]
  },
  {
   "cell_type": "code",
   "execution_count": 33,
   "metadata": {},
   "outputs": [
    {
     "name": "stdout",
     "output_type": "stream",
     "text": [
      "Overwriting file.py\n"
     ]
    }
   ],
   "source": [
    "%%writefile file.py\n",
    "def sum(a,b):\n",
    "    print(a+b)\n",
    "def sub(a,b):\n",
    "    print(a-b)\n",
    "def mul(a,b):\n",
    "    print(a*b)\n",
    "def div(a,b):\n",
    "    print(a/b)"
   ]
  },
  {
   "cell_type": "code",
   "execution_count": 2,
   "metadata": {},
   "outputs": [
    {
     "name": "stdout",
     "output_type": "stream",
     "text": [
      "30\n",
      "6.0\n"
     ]
    }
   ],
   "source": [
    "import file as f\n",
    "f.sum(10,20)\n",
    "f.div(12,2)"
   ]
  },
  {
   "cell_type": "code",
   "execution_count": 3,
   "metadata": {},
   "outputs": [
    {
     "name": "stdout",
     "output_type": "stream",
     "text": [
      "30\n",
      "200\n",
      "-10\n"
     ]
    }
   ],
   "source": [
    "from file import *\n",
    "sum(10,20)\n",
    "mul(10,20)\n",
    "sub(10,20)"
   ]
  },
  {
   "cell_type": "code",
   "execution_count": 2,
   "metadata": {},
   "outputs": [
    {
     "data": {
      "text/plain": [
       "['__builtins__',\n",
       " '__cached__',\n",
       " '__doc__',\n",
       " '__file__',\n",
       " '__loader__',\n",
       " '__name__',\n",
       " '__package__',\n",
       " '__spec__',\n",
       " 'div',\n",
       " 'mul',\n",
       " 'sub',\n",
       " 'sum']"
      ]
     },
     "execution_count": 2,
     "metadata": {},
     "output_type": "execute_result"
    }
   ],
   "source": [
    "import file\n",
    "dir(file)"
   ]
  },
  {
   "cell_type": "markdown",
   "metadata": {},
   "source": [
    "## Python os Module\n",
    "\n",
    "- provides funs for interacting with the os.\n",
    "- cwd\n",
    "- pwd"
   ]
  },
  {
   "cell_type": "code",
   "execution_count": 4,
   "metadata": {},
   "outputs": [
    {
     "data": {
      "text/plain": [
       "'D:\\\\'"
      ]
     },
     "execution_count": 4,
     "metadata": {},
     "output_type": "execute_result"
    }
   ],
   "source": [
    "pwd"
   ]
  },
  {
   "cell_type": "code",
   "execution_count": 11,
   "metadata": {},
   "outputs": [
    {
     "data": {
      "text/plain": [
       "'C:\\\\'"
      ]
     },
     "execution_count": 11,
     "metadata": {},
     "output_type": "execute_result"
    }
   ],
   "source": [
    "#change the directory\n",
    "import os\n",
    "os.getcwd()"
   ]
  },
  {
   "cell_type": "code",
   "execution_count": 12,
   "metadata": {},
   "outputs": [
    {
     "data": {
      "text/plain": [
       "'D:\\\\'"
      ]
     },
     "execution_count": 12,
     "metadata": {},
     "output_type": "execute_result"
    }
   ],
   "source": [
    "os.chdir(\"D:\\\\\")\n",
    "os.getcwd()"
   ]
  },
  {
   "cell_type": "code",
   "execution_count": 21,
   "metadata": {},
   "outputs": [
    {
     "ename": "FileExistsError",
     "evalue": "[WinError 183] Cannot create a file when that file already exists: 'D:\\\\file'",
     "output_type": "error",
     "traceback": [
      "\u001b[1;31m---------------------------------------------------------------------------\u001b[0m",
      "\u001b[1;31mFileExistsError\u001b[0m                           Traceback (most recent call last)",
      "\u001b[1;32m<ipython-input-21-f319f57d44db>\u001b[0m in \u001b[0;36m<module>\u001b[1;34m\u001b[0m\n\u001b[0;32m      1\u001b[0m \u001b[1;31m#create a directory\u001b[0m\u001b[1;33m\u001b[0m\u001b[1;33m\u001b[0m\u001b[1;33m\u001b[0m\u001b[0m\n\u001b[1;32m----> 2\u001b[1;33m \u001b[0mos\u001b[0m\u001b[1;33m.\u001b[0m\u001b[0mmkdir\u001b[0m\u001b[1;33m(\u001b[0m\u001b[1;34m\"D:\\\\file\"\u001b[0m\u001b[1;33m)\u001b[0m\u001b[1;33m\u001b[0m\u001b[1;33m\u001b[0m\u001b[0m\n\u001b[0m",
      "\u001b[1;31mFileExistsError\u001b[0m: [WinError 183] Cannot create a file when that file already exists: 'D:\\\\file'"
     ]
    }
   ],
   "source": [
    "#create a directory\n",
    "os.mkdir(\"D:\\\\file\")"
   ]
  },
  {
   "cell_type": "code",
   "execution_count": 14,
   "metadata": {},
   "outputs": [
    {
     "data": {
      "text/plain": [
       "['$RECYCLE.BIN',\n",
       " '.ipynb_checkpoints',\n",
       " 'demo.txt',\n",
       " 'file',\n",
       " 'file.py',\n",
       " 'file1.txt',\n",
       " 'file2.txt',\n",
       " 'file3.txt',\n",
       " 'jaimin',\n",
       " 'LskLock.tmp',\n",
       " 'Python',\n",
       " 'System Volume Information',\n",
       " 'Unit-6.ipynb',\n",
       " 'Untitled.ipynb',\n",
       " '__pycache__']"
      ]
     },
     "execution_count": 14,
     "metadata": {},
     "output_type": "execute_result"
    }
   ],
   "source": [
    "#Listing \n",
    "os.listdir()"
   ]
  },
  {
   "cell_type": "markdown",
   "metadata": {},
   "source": [
    "## Deleting Directory or file using remove\n",
    "\n",
    "1. os.remove()\n",
    "2. os.rmdiv() -> only delete emplty directory"
   ]
  },
  {
   "cell_type": "code",
   "execution_count": 22,
   "metadata": {},
   "outputs": [
    {
     "ename": "OSError",
     "evalue": "[WinError 145] The directory is not empty: 'D:\\\\file'",
     "output_type": "error",
     "traceback": [
      "\u001b[1;31m---------------------------------------------------------------------------\u001b[0m",
      "\u001b[1;31mOSError\u001b[0m                                   Traceback (most recent call last)",
      "\u001b[1;32m<ipython-input-22-043cafcd4844>\u001b[0m in \u001b[0;36m<module>\u001b[1;34m\u001b[0m\n\u001b[0;32m      2\u001b[0m \u001b[1;31m# os.remove(\"D:\\\\demo.txt\")\u001b[0m\u001b[1;33m\u001b[0m\u001b[1;33m\u001b[0m\u001b[1;33m\u001b[0m\u001b[0m\n\u001b[0;32m      3\u001b[0m \u001b[1;33m\u001b[0m\u001b[0m\n\u001b[1;32m----> 4\u001b[1;33m \u001b[0mos\u001b[0m\u001b[1;33m.\u001b[0m\u001b[0mrmdir\u001b[0m\u001b[1;33m(\u001b[0m\u001b[1;34m\"D:\\\\file\"\u001b[0m\u001b[1;33m)\u001b[0m\u001b[1;33m\u001b[0m\u001b[1;33m\u001b[0m\u001b[0m\n\u001b[0m",
      "\u001b[1;31mOSError\u001b[0m: [WinError 145] The directory is not empty: 'D:\\\\file'"
     ]
    }
   ],
   "source": [
    "import os\n",
    "# os.remove(\"D:\\\\demo.txt\")\n",
    "\n",
    "os.rmdir(\"D:\\\\file\")\n"
   ]
  },
  {
   "cell_type": "markdown",
   "metadata": {},
   "source": [
    "# Package\n",
    "\n"
   ]
  },
  {
   "cell_type": "code",
   "execution_count": 24,
   "metadata": {},
   "outputs": [
    {
     "name": "stdout",
     "output_type": "stream",
     "text": [
      "Writing Stringfunction.py\n"
     ]
    }
   ],
   "source": [
    "%%writefile Stringfunction.py\n",
    "\n",
    "def func(s):\n",
    "    print(\"Len : \",len(s))\n",
    "    print(\"Upper : \",s.upper())\n",
    "    print(\"Lower : \",s.lower())\n",
    "    print(\"Capitalize \",s.capitalize())\n",
    "    print(\"Title: \",s.title())\n",
    "    print(\"Is upper : \",s.isupper())\n",
    "    print(\"Is lower : \",s.islower())\n",
    "    print(\"is alpha : \", s.isalpha())\n",
    "    print(\"is digit : \", s.isdigit())\n",
    "    print(\"is alnum : \",s.isalnum())"
   ]
  },
  {
   "cell_type": "code",
   "execution_count": 26,
   "metadata": {},
   "outputs": [
    {
     "name": "stdout",
     "output_type": "stream",
     "text": [
      "Len :  12\n",
      "Upper :  ABCD1234 BDA\n",
      "Lower :  abcd1234 bda\n",
      "Capitalize  Abcd1234 bda\n",
      "Title:  Abcd1234 Bda\n",
      "Is upper :  False\n",
      "Is lower :  True\n",
      "is alpha :  False\n",
      "is digit :  False\n",
      "is alnum :  False\n"
     ]
    }
   ],
   "source": [
    "#Wt a python  program to make a module which contains all the basic function s relatated to string and import that module in onther \n",
    "#file and use that functions with string given by user\n",
    "\n",
    "\n",
    "import Stringfunction as s\n",
    "\n",
    "s.func(\"abcd1234 bda\")"
   ]
  },
  {
   "cell_type": "code",
   "execution_count": null,
   "metadata": {},
   "outputs": [],
   "source": []
  }
 ],
 "metadata": {
  "kernelspec": {
   "display_name": "Python 3",
   "language": "python",
   "name": "python3"
  },
  "language_info": {
   "codemirror_mode": {
    "name": "ipython",
    "version": 3
   },
   "file_extension": ".py",
   "mimetype": "text/x-python",
   "name": "python",
   "nbconvert_exporter": "python",
   "pygments_lexer": "ipython3",
   "version": "3.8.5"
  }
 },
 "nbformat": 4,
 "nbformat_minor": 4
}
