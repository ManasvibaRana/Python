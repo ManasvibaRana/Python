{
 "cells": [
  {
   "cell_type": "markdown",
   "metadata": {},
   "source": [
    "## Python In built Functions\n",
    "* Create\n",
    "* read\n",
    "* write\n",
    "\n",
    "## Type of files \n",
    "1. text file (terminator for line '\\n')\n",
    "2. binary file (machine understable no terminator for '\\n' line)\n",
    "\n",
    "\n"
   ]
  },
  {
   "cell_type": "code",
   "execution_count": 11,
   "metadata": {},
   "outputs": [
    {
     "name": "stdout",
     "output_type": "stream",
     "text": [
      "Hello \n",
      "how are yoou\n",
      "True\n"
     ]
    }
   ],
   "source": [
    "f = open(\"demo.txt\", \"r\")\n",
    "\n",
    "print(f.read())\n",
    "f.close()\n",
    "print(f.closed)\n"
   ]
  },
  {
   "cell_type": "code",
   "execution_count": 9,
   "metadata": {},
   "outputs": [
    {
     "name": "stdout",
     "output_type": "stream",
     "text": [
      "Hello \n",
      "how are yoou\n",
      "False\n",
      "True\n"
     ]
    }
   ],
   "source": [
    "with open(\"demo.txt\",\"r\") as f : \n",
    "    print(f.read())\n",
    "    print(f.closed)\n",
    "    \n",
    "print(f.closed)    "
   ]
  },
  {
   "cell_type": "code",
   "execution_count": 25,
   "metadata": {},
   "outputs": [],
   "source": [
    "f = open(\"demo.txt\",\"w+\")\n",
    "f.write(\"This is java\")\n",
    "\n",
    "f.close()"
   ]
  },
  {
   "cell_type": "markdown",
   "metadata": {},
   "source": [
    "## Reading the files\n",
    "\n",
    "1. read()\n",
    "2. readline()\n",
    "3. readlines()"
   ]
  },
  {
   "cell_type": "code",
   "execution_count": 34,
   "metadata": {},
   "outputs": [
    {
     "name": "stdout",
     "output_type": "stream",
     "text": [
      "This is python 1\n",
      "This is python 2\n",
      "This is python 3\n",
      "This is python 4\n",
      "This is python 5\n"
     ]
    }
   ],
   "source": [
    "f = open(\"demo.txt\",\"r\")\n",
    "\n",
    "# f.read() This is python 1\\nThis is python 2\\nThis is python 3\\nThis is python 4\\nThis is python 5'\n",
    "\n",
    "print(f.read())  \n",
    "\n",
    "# This is python 1\n",
    "# This is python 2\n",
    "# This is python 3\n",
    "# This is python 4\n",
    "# This is python 5\n",
    "\n",
    "# f.readline()  This is python 1\\n'\n",
    "# print(f.readline())  This is python 1\n",
    "\n",
    "\n",
    "# f.readlines()\n",
    "\n",
    "# ['This is python 1\\n',\n",
    "#  'This is python 2\\n',\n",
    "#  'This is python 3\\n',\n",
    "#  'This is python 4\\n',\n",
    "#  'This is python 5']\n",
    "\n",
    "\n",
    "# print(f.readlines()) ['This is python 1\\n', 'This is python 2\\n', 'This is python 3\\n', 'This is python 4\\n', 'This is python 5']"
   ]
  },
  {
   "cell_type": "code",
   "execution_count": 42,
   "metadata": {},
   "outputs": [
    {
     "name": "stdout",
     "output_type": "stream",
     "text": [
      "This is python 1\n",
      "This is python 2\n",
      "This is python 3\n",
      "This is python 4\n",
      "This is python 5 \n",
      "85\n",
      "0\n",
      "This is python 1\n",
      "This is python 2\n",
      "This is python 3\n",
      "This is python 4\n",
      "This is python 5 \n",
      "85\n"
     ]
    }
   ],
   "source": [
    "f = open(\"demo.txt\",\"r\")\n",
    "\n",
    "print(f.read())  \n",
    "print(f.tell())\n",
    "f.seek(0) #set cursor at 0 index\n",
    "print(f.tell()) # 0\n",
    "print(f.read())  \n",
    "print(f.tell()) # 84\n",
    "f.close()"
   ]
  },
  {
   "cell_type": "code",
   "execution_count": 77,
   "metadata": {},
   "outputs": [
    {
     "name": "stdout",
     "output_type": "stream",
     "text": [
      "This is python 1\n",
      "This is python \n",
      "32\n",
      "2\n",
      "Thi\n",
      "37\n",
      "s is python\n",
      "48\n"
     ]
    }
   ],
   "source": [
    "f = open(\"demo.txt\",\"r\")\n",
    "print(f.read(32))\n",
    "print(f.tell())\n",
    "print(f.read(5))\n",
    "print(f.tell())\n",
    "print(f.read(11))\n",
    "print(f.tell())\n",
    "f.close()"
   ]
  },
  {
   "cell_type": "code",
   "execution_count": 79,
   "metadata": {},
   "outputs": [
    {
     "name": "stdout",
     "output_type": "stream",
     "text": [
      "This \n",
      "is \n",
      "python 1\n",
      "\n",
      "This is python 1\n",
      "\n"
     ]
    }
   ],
   "source": [
    "f = open(\"demo.txt\",\"r\")\n",
    " # This is python 1\\n'\n",
    "print(f.readline(5)) #This is python 1\n",
    "print(f.readline(3))\n",
    "print(f.readline())\n",
    "f.seek(0)\n",
    "print(f.readline(20))"
   ]
  },
  {
   "cell_type": "code",
   "execution_count": 85,
   "metadata": {},
   "outputs": [
    {
     "name": "stdout",
     "output_type": "stream",
     "text": [
      "['This is python 1\\n']\n",
      "['on 1\\n', 'This is python 2\\n']\n"
     ]
    }
   ],
   "source": [
    "f = open(\"demo.txt\",\"r\")\n",
    "\n",
    "# f.readlines()\n",
    "# ['This is python 1\\n',\n",
    "#  'This is python 2\\n',\n",
    "#  'This is python 3\\n',\n",
    "#  'This is python 4\\n',\n",
    "#  'This is python 5 ']\n",
    "print(f.readlines(5))  \n",
    "f.seek(12)\n",
    "print(f.readlines(14))  \n",
    "# print(f.tell()) OSError: telling position disabled by next() call if index is given in the lines parameter "
   ]
  },
  {
   "cell_type": "markdown",
   "metadata": {},
   "source": [
    "## Write\n",
    "\n",
    "1. write\n",
    "2. writelines() --> to write list\n",
    "    "
   ]
  },
  {
   "cell_type": "code",
   "execution_count": 88,
   "metadata": {},
   "outputs": [],
   "source": [
    "f = open(\"b2_71.txt\",\"w\")\n",
    "f.write(\"This is text1 file\")\n",
    "\n",
    "f.close()"
   ]
  },
  {
   "cell_type": "code",
   "execution_count": 92,
   "metadata": {},
   "outputs": [],
   "source": [
    "with open(\"b2_71.txt\",\"w\") as f:\n",
    "    f.write(\"this is \\n text\")"
   ]
  },
  {
   "cell_type": "code",
   "execution_count": 102,
   "metadata": {},
   "outputs": [
    {
     "name": "stdout",
     "output_type": "stream",
     "text": [
      "Enter Name :1 df\n",
      "Enter Name :2 gfrftg\n",
      "Enter Name :3 rfyg\n",
      "Enter Name :4 dfghe\n",
      "Enter Name :5 aet\n"
     ]
    }
   ],
   "source": [
    "f = open(\"b2_71.txt\",\"w\")\n",
    "\n",
    "for i in range(5):\n",
    "    i = input(f\"Enter Name :{i+1} \")\n",
    "    f.write(i+\"\\n\")\n",
    "    \n",
    "f.close()    "
   ]
  },
  {
   "cell_type": "code",
   "execution_count": 104,
   "metadata": {},
   "outputs": [],
   "source": [
    "f = open(\"b2_71.txt\",\"w\")\n",
    "\n",
    "l = [\"a\\n\",\"b\\n\",\"c\\n\",\"d\"]\n",
    "\n",
    "f.writelines(l)\n",
    "\n",
    "f.close()"
   ]
  },
  {
   "cell_type": "code",
   "execution_count": 110,
   "metadata": {},
   "outputs": [
    {
     "name": "stdout",
     "output_type": "stream",
     "text": [
      "Enter Name :1 gt\n",
      "Enter Name :2 ty\n",
      "Enter Name :3 t\n",
      "Enter Name :4 r\n",
      "Enter Name :5 r\n"
     ]
    }
   ],
   "source": [
    "f = open(\"b2_71.txt\",\"w\")\n",
    "l =[]\n",
    "for i in range(5):\n",
    "     name =(input(f\"Enter Name :{i+1} \"))\n",
    "     l.append(name+\"\\n\")\n",
    "f.writelines(l)\n",
    "   \n",
    "f.close()    "
   ]
  },
  {
   "cell_type": "code",
   "execution_count": 13,
   "metadata": {},
   "outputs": [
    {
     "name": "stdout",
     "output_type": "stream",
     "text": [
      "dict_items([('Name :', 'Alice'), ('Age : ', '20'), ('Degree : ', 'CSE'), ('University : ', 'Oxford University ')])\n"
     ]
    }
   ],
   "source": [
    "x = {\"Name :\":\"Alice\", \"Age : \":\"20\" , \"Degree : \": \"CSE\" , \"University : \": \"Oxford University \"}\n",
    "\n",
    "f = open('alice',\"w\")\n",
    "\n",
    "for i,j in x.items():\n",
    "    f.write(i +j +\"\\n\")\n",
    "    \n",
    "f.close()    "
   ]
  },
  {
   "cell_type": "code",
   "execution_count": 26,
   "metadata": {},
   "outputs": [
    {
     "name": "stdout",
     "output_type": "stream",
     "text": [
      "NAME :ALICE\n",
      "AGE : 20\n",
      "DEGREE : CSE\n",
      "UNIVERSITY : OXFORD UNIVERSITY \n",
      "\n"
     ]
    }
   ],
   "source": [
    "#wt a python program to copy the contain of one file to onther in upper case\n",
    "\n",
    "f = open(\"alice\",\"r\")\n",
    "s = (f.read()).upper()\n",
    "\n",
    "print(s)\n",
    "\n",
    "g = open(\"alicec\", 'w')\n",
    "\n",
    "g.write(s)\n",
    "    \n",
    "g.close()    "
   ]
  },
  {
   "cell_type": "code",
   "execution_count": 27,
   "metadata": {},
   "outputs": [
    {
     "name": "stdout",
     "output_type": "stream",
     "text": [
      "\n",
      " ytisrevinU drofxO : ytisrevinU\n",
      "ESC : eergeD\n",
      "02 : egA\n",
      "ecilA: emaN\n"
     ]
    }
   ],
   "source": [
    "#wt a python program to reverse the contain of file and store in another file\n",
    "\n",
    "f = open(\"alice\",\"r\")\n",
    "s = (f.read())\n",
    "\n",
    "s1 = s[::-1]\n",
    "\n",
    "print(s1)\n",
    "\n",
    "\n",
    "g= open(\"alicec\",\"w\")\n",
    "\n",
    "g.write(s1)\n",
    "g.close()"
   ]
  },
  {
   "cell_type": "code",
   "execution_count": 45,
   "metadata": {},
   "outputs": [
    {
     "name": "stdout",
     "output_type": "stream",
     "text": [
      "Name :Alice\n",
      "Age : 20\n",
      "Degree : CSE\n",
      "University : Oxford University \n",
      "\n"
     ]
    }
   ],
   "source": [
    "f = open(\"alice\",\"r\")\n",
    "s = (f.read())\n",
    "print(s)\n",
    "s1 = \"\"\n",
    "\n",
    "for i in range(len(s)) : \n",
    "    p = s.find(\"\\n\", i , len(s))\n",
    "    \n",
    "    \n",
    "    if s[i] == \"\\n\":\n",
    "        s1=s[:p:1]+ s1\n",
    "    else : \n",
    "        s1 = \"\"\n",
    "   \n",
    "    \n",
    "g = open(\"alicec\",\"w\")    \n",
    "g.write(s1)\n",
    "\n",
    "g.close()"
   ]
  },
  {
   "cell_type": "code",
   "execution_count": 55,
   "metadata": {},
   "outputs": [],
   "source": [
    "# wta python to cpy odd lines from one file to another file\n",
    "\n",
    "\n",
    "f = open(\"alice\",\"w\")\n",
    "g = open(\"alicec\",\"r\")\n",
    "\n",
    "p = open(\"evenodd\",\"w\")\n",
    "\n",
    "\n",
    "s1 = g.readlines()\n",
    "\n",
    "\n",
    "\n",
    "\n",
    "ans1 = \"\"\n",
    "\n",
    "    \n",
    "ans = \"\"   \n",
    "for i in range(len(s1)):\n",
    "    if i %2 == 0 :\n",
    "        ans = ans + s1[i]\n",
    "    else :\n",
    "        ans1 = ans1 + s1[i]\n",
    "        \n",
    "        \n",
    "    \n",
    "p.write(ans)\n",
    "f.write(ans1)\n",
    "f.close()\n",
    "p.close()"
   ]
  },
  {
   "cell_type": "code",
   "execution_count": 1,
   "metadata": {},
   "outputs": [
    {
     "name": "stdout",
     "output_type": "stream",
     "text": [
      "Enter File namealice\n",
      "India, officially the Republic of India,[j][20] is a country in South Asia. It is the seventh-largest country in the world by area and the\n",
      "\n",
      "most populous country. Bounded by the Indian Ocean on the south, the Arabian Sea on the southwest, and the Bay of Bengal on the southeast, it\n",
      "\n",
      "shares land borders with Pakistan to the west;[k] China, Nepal, and Bhutan to the north; and Bangladesh and Myanmar to the east. In the Indian\n",
      "\n",
      "Ocean, India is in the vicinity of Sri Lanka and the Maldives; its Andaman and Nicobar Islands share a maritime border with Thailand, Myanmar,\n",
      "\n",
      "and Indonesia.\n",
      "\n",
      "Enter Q for quit : rf\n",
      "Modern humans arrived on the Indian subcontinent from Africa no later than 55,000 years ago.[22][23][24] Their long occupation, initially in \n",
      "\n",
      "varying forms of isolation as hunter-gatherers, has made the region highly diverse, second only to Africa in human genetic diversity.[25] \n",
      "\n",
      "Settled life emerged on the subcontinent in the western margins of the Indus river basin 9,000 years ago, evolving gradually into the Indus\n",
      "\n",
      "Valley Civilisation of the third millennium BCE.[26] By at least 1200 BCE, an archaic form of Sanskrit, an Indo-European language, had \n",
      "\n",
      "diffused into India from the northwest.[27][28] Its evidence today is found in the hymns of the Rigveda. Preserved by an oral tradition that \n",
      "\n",
      "Enter Q for quit : q\n"
     ]
    }
   ],
   "source": [
    "#imp \n",
    "\n",
    "# wt a pager program your solution should prome a file name and display the text file 5 lines at a time causing each time to ask user\n",
    "# to press any keyy to continus and to press q to quit\n",
    "\n",
    "filename = input(\"Enter File name\")\n",
    "\n",
    "f = open(filename,\"r\")\n",
    "\n",
    "p = 0\n",
    "b = \"\"\n",
    "while b!=\"q\":\n",
    "    p = 1\n",
    "    while p<6:\n",
    "        s = f.readlines(p)\n",
    "        s1 = \"\"+s[0]\n",
    "        print(s1)\n",
    "        \n",
    "        p +=1\n",
    "    \n",
    "    b = input(\"Enter Q for quit : \")\n",
    "    \n",
    "    "
   ]
  },
  {
   "cell_type": "code",
   "execution_count": 3,
   "metadata": {},
   "outputs": [],
   "source": [
    "#wt a python program to copy the content of two file in single file\n",
    "\n",
    "\n",
    "f = open(\"alice\",\"r\")\n",
    "g = open(\"alicec\",\"r\")\n",
    "\n",
    "\n",
    "s = f.read()\n",
    "s1 = g.read()\n",
    "\n",
    "p = open(\"evenodd\", \"w\")\n",
    "\n",
    "p.write(s)\n",
    "p.write(s1)\n",
    "\n",
    "p.close()"
   ]
  },
  {
   "cell_type": "code",
   "execution_count": 13,
   "metadata": {},
   "outputs": [],
   "source": [
    "#wt a\n",
    "\n",
    "f = open('evenodd',\"r\")\n",
    "\n",
    "s1 = f.read()\n",
    "s =\"\"\n",
    "p = 0\n",
    "while p < len(s1):\n",
    "    if s1[p] == \"#\":\n",
    "        while p<len(s1) and s1[p] != \"\\n\" :\n",
    "             p = p +1\n",
    "    else : \n",
    "        s = s+ s1[p]\n",
    "        p +=1\n",
    "\n",
    "g = open(\"alice\",\"w\")\n",
    "g.write(s)\n",
    "g.close()"
   ]
  },
  {
   "cell_type": "code",
   "execution_count": null,
   "metadata": {},
   "outputs": [],
   "source": []
  }
 ],
 "metadata": {
  "kernelspec": {
   "display_name": "Python 3",
   "language": "python",
   "name": "python3"
  },
  "language_info": {
   "codemirror_mode": {
    "name": "ipython",
    "version": 3
   },
   "file_extension": ".py",
   "mimetype": "text/x-python",
   "name": "python",
   "nbconvert_exporter": "python",
   "pygments_lexer": "ipython3",
   "version": "3.8.5"
  }
 },
 "nbformat": 4,
 "nbformat_minor": 4
}
