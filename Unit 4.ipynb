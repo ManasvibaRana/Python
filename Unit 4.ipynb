{
 "cells": [
  {
   "cell_type": "markdown",
   "metadata": {},
   "source": [
    "# Immutable data Structure\n",
    "String\n",
    "tuple"
   ]
  },
  {
   "cell_type": "markdown",
   "metadata": {},
   "source": [
    "# Accessing characters of string\n",
    "1. by using index ljiet(a[3]->e , a[-1] (back) ->t)\n",
    "2. by using Slicing operation"
   ]
  },
  {
   "cell_type": "code",
   "execution_count": 19,
   "metadata": {},
   "outputs": [
    {
     "name": "stdout",
     "output_type": "stream",
     "text": [
      "u\n",
      "y\n",
      "r\n"
     ]
    }
   ],
   "source": [
    "# a=\"Lj university\"\n",
    " \n",
    "print(a[3]) # u\n",
    "print(a[-1]) # y\n",
    "print(a[-5]) # r\n",
    "# print(a[20]) IndexError: string index out of range\n"
   ]
  },
  {
   "cell_type": "markdown",
   "metadata": {},
   "source": [
    "# Access character of string by slicing oprator\n",
    "1. syntax > s[BeginIndex : EndIndex : Step]"
   ]
  },
  {
   "cell_type": "code",
   "execution_count": 8,
   "metadata": {},
   "outputs": [
    {
     "name": "stdout",
     "output_type": "stream",
     "text": [
      "earnin\n",
      "eri\n",
      "earnin\n",
      "Learnin\n",
      "earning python is easy\n",
      "Learning python is easy\n",
      "Learning python is easy\n",
      "Lann yhni ay\n",
      "ysae si nohtyp gninraeL\n",
      "ysa\n",
      "\n"
     ]
    }
   ],
   "source": [
    "s=\"Learning python is easy\"\n",
    "\n",
    "print(s[1:7:1]) #earnin\n",
    "print(s[1:7:2]) #eri\n",
    "print(s[1:7]) #earnin\n",
    "print(s[:7]) #Learnin\n",
    "print(s[1:]) #earning python is easy\n",
    "print(s[::]) #Learning python is easy\n",
    "print(s[:]) #Learning python is easy\n",
    "print(s[::2]) # Lann yhni ay\n",
    "print(s[::-1]) # ysae si nohtyp gninraeL\n",
    "print(s[-1:-4:-1]) #ysa\n",
    "print(s[-1:-4]) #empty no-output"
   ]
  },
  {
   "cell_type": "markdown",
   "metadata": {},
   "source": [
    " 1. (+) --> Concatention\n",
    " 2. (*) -->Repetation or String multiplication"
   ]
  },
  {
   "cell_type": "code",
   "execution_count": 9,
   "metadata": {},
   "outputs": [
    {
     "name": "stdout",
     "output_type": "stream",
     "text": [
      "Manasviba Rana\n",
      "mememe\n"
     ]
    }
   ],
   "source": [
    "print(\"Manasviba \"+\"Rana\")\n",
    "print(\"me\"*3)"
   ]
  },
  {
   "cell_type": "markdown",
   "metadata": {},
   "source": [
    "# Comparision of String"
   ]
  },
  {
   "cell_type": "code",
   "execution_count": 17,
   "metadata": {},
   "outputs": [
    {
     "name": "stdout",
     "output_type": "stream",
     "text": [
      "Enter first String manu\n",
      "Enter second String Manu\n",
      "First String is greater\n"
     ]
    }
   ],
   "source": [
    "s1 = input(\"Enter first String \")\n",
    "s2 = input(\"Enter second String \")\n",
    "\n",
    "if s1==s2:\n",
    "    print(\"Both String are same\")\n",
    "elif s1<s2 : \n",
    "    print(\"Second string is greater\")\n",
    "else :\n",
    "    print(\"First String is greater\")\n",
    "    \n"
   ]
  },
  {
   "cell_type": "markdown",
   "metadata": {},
   "source": [
    "# Joining of String\n"
   ]
  },
  {
   "cell_type": "markdown",
   "metadata": {},
   "source": [
    "Syntax : s = separator.join(group of string)"
   ]
  },
  {
   "cell_type": "code",
   "execution_count": 18,
   "metadata": {},
   "outputs": [
    {
     "name": "stdout",
     "output_type": "stream",
     "text": [
      "Apple-Banana-Cherry\n"
     ]
    }
   ],
   "source": [
    "t = (\"Apple\" , \"Banana\" ,\"Cherry\")\n",
    "\n",
    "x= \"-\".join(t)\n",
    "\n",
    "print(x)"
   ]
  },
  {
   "cell_type": "markdown",
   "metadata": {},
   "source": [
    "# Formatting of String"
   ]
  },
  {
   "cell_type": "code",
   "execution_count": 21,
   "metadata": {},
   "outputs": [
    {
     "name": "stdout",
     "output_type": "stream",
     "text": [
      "Arman's salary is 50000 and age is 25 \n",
      "Arman's salary is 25 and age is 25 \n"
     ]
    }
   ],
   "source": [
    "name = \"Arman\"\n",
    "salary = 50000\n",
    "age = 25\n",
    "\n",
    "print(\"{}'s salary is {} and age is {} \".format(name,salary,age))\n",
    "\n",
    "print(\"{0}'s salary is {2} and age is {2} \".format(name,salary,age))"
   ]
  },
  {
   "cell_type": "markdown",
   "metadata": {},
   "source": [
    "# Important function of String\n",
    "1. len()\n",
    "## Removing space from string\n",
    "1. rstrip()\n",
    "2. lstrip()\n",
    "3. strip()"
   ]
  },
  {
   "cell_type": "code",
   "execution_count": 42,
   "metadata": {
    "scrolled": true
   },
   "outputs": [
    {
     "name": "stdout",
     "output_type": "stream",
     "text": [
      "5\n",
      "Bandana is a fruit\n",
      "Bandana is a fruit\n",
      "7\n",
      "7\n",
      " banan\n",
      " b\n",
      " banana\n",
      " b\n"
     ]
    }
   ],
   "source": [
    "a= 'LJIET'\n",
    "print(len(a))\n",
    "\n",
    "t = \"Bandana\"\n",
    "print(t,\"is a fruit\")\n",
    "x = t.rstrip()\n",
    "\n",
    "print(x,\"is a fruit\")\n",
    "print(len(t)) #9\n",
    "print(len(x)) #7\n",
    "\n",
    "d =\" banana\"\n",
    "y = d.rstrip(\"a\") # if space then wont work it must be last character of string\n",
    "print(y)\n",
    "y = d.rstrip(\"an\") # b\n",
    "print(y) # Band\n",
    "\n",
    "\n",
    "\n",
    "x = d.lstrip(\"b\")\n",
    "print(x)\n",
    "\n",
    "x = d.strip(\"na\" )\n",
    "print(x) #Dounttttt"
   ]
  },
  {
   "cell_type": "markdown",
   "metadata": {},
   "source": [
    "# Changing the case of String\n",
    "\n",
    "1. upper()\n",
    "2. lower()\n",
    "3. swapcase()\n",
    "4. title()\n",
    "5. capitalize()"
   ]
  },
  {
   "cell_type": "code",
   "execution_count": 52,
   "metadata": {},
   "outputs": [
    {
     "name": "stdout",
     "output_type": "stream",
     "text": [
      " HELLO WORLD\n",
      " hello world\n",
      " HELlO WORLD\n",
      " Hello World\n",
      " hello world\n"
     ]
    }
   ],
   "source": [
    "s = \"HelLo world\"\n",
    "\n",
    "x= s.upper()\n",
    "print(x)\n",
    "\n",
    "x = s.lower()\n",
    "print(x)\n",
    "\n",
    "x= s.swapcase()\n",
    "print(x)\n",
    "\n",
    "x = s.title()\n",
    "print(x)\n",
    "\n",
    "x = s.capitalize()\n",
    "print(x)"
   ]
  },
  {
   "cell_type": "markdown",
   "metadata": {},
   "source": [
    "# Check type of character of a string (ans-> True/False)\n",
    "\n",
    "1. isalnum() (A-Z,a-z,0-9) --> Alpha numeric function (space ans-> false)\n",
    "2. isalpha() (A-Z,a-z)\n",
    "3. isdigit() (0-9,superscript,subscript) or isnumeric(0-9,supercrip,subscript,roman,vulgur function)\n",
    "4. islower()\n",
    "5. isupper()\n",
    "6. istitle()\n",
    "7. isidentifier()\n",
    "8. isspace()"
   ]
  },
  {
   "cell_type": "code",
   "execution_count": 72,
   "metadata": {},
   "outputs": [
    {
     "name": "stdout",
     "output_type": "stream",
     "text": [
      "True\n",
      "False\n",
      "True\n",
      "False\n",
      "True\n",
      "False\n",
      "True\n",
      "False\n",
      "True\n"
     ]
    }
   ],
   "source": [
    "t = \"Company1234\"\n",
    "\n",
    "x = t.isalnum()\n",
    "print(x)\n",
    "\n",
    "x = t.isalpha()\n",
    "print(x)\n",
    "\n",
    "p = \"15874814\"\n",
    "x= p.isdigit()\n",
    "print(x)\n",
    "\n",
    "x = t.islower() # Only check alphabet\n",
    "print(x)\n",
    "\n",
    "p= \"Hello World \"  #ONLY FIRST CHARACTER SHOULD BE CAPITAL OTHERWISE ANS IS FALSE\n",
    "x= p.istitle()\n",
    "print(x)\n",
    "\n",
    "p = \" My demo\"\n",
    "x= p.isidentifier()\n",
    "print(x)\n",
    "\n",
    "p = \"demo20\"\n",
    "x= p.isidentifier()\n",
    "print(x)\n",
    "\n",
    "p = \"2demo20\"\n",
    "x= p.isidentifier()\n",
    "print(x)\n",
    "\n",
    "p= \" \"\n",
    "x= p.isspace()\n",
    "print(x)"
   ]
  },
  {
   "cell_type": "code",
   "execution_count": 78,
   "metadata": {},
   "outputs": [
    {
     "name": "stdout",
     "output_type": "stream",
     "text": [
      "Word :  5\n",
      "alphabet  16\n",
      "Uper :  3\n",
      "Lower :  13\n",
      "Space :  4\n",
      "Special :  4\n",
      "Digit :  5\n"
     ]
    }
   ],
   "source": [
    "s =\"Pyt@h$%on is 124 Very Ea$sy43\"\n",
    "\n",
    "alpha = 0\n",
    "upper = 0\n",
    "lower = 0\n",
    "digit = 0\n",
    "space = 0\n",
    "special =0\n",
    "word = 1\n",
    "\n",
    "\n",
    "for i in range(0,len(s)):\n",
    "    if s[i].isdigit() : \n",
    "        digit = digit+1\n",
    "    elif s[i].isupper():\n",
    "        upper = upper +1\n",
    "    elif s[i].islower():\n",
    "        lower = lower + 1\n",
    "    elif s[i].isspace():\n",
    "        space = space +1 \n",
    "        word = word +1\n",
    "    else : \n",
    "        special = special+1\n",
    "        \n",
    "print(\"Word : \", word)\n",
    "print(\"alphabet : \" , upper+lower)\n",
    "print(\"Uper : \", upper)\n",
    "print(\"Lower : \", lower)\n",
    "print(\"Space : \", space)\n",
    "print(\"Special : \", special)\n",
    "print(\"Digit : \", digit)"
   ]
  },
  {
   "cell_type": "markdown",
   "metadata": {},
   "source": [
    "## Find()\n",
    "<br>\n",
    "Syntax : <br> s.find(substring) <br>\n",
    "         s.find(substring,begin,end)\n"
   ]
  },
  {
   "cell_type": "code",
   "execution_count": 86,
   "metadata": {},
   "outputs": [
    {
     "name": "stdout",
     "output_type": "stream",
     "text": [
      "2\n",
      "25\n",
      "-1\n",
      "9\n"
     ]
    }
   ],
   "source": [
    "s = \"Learning python is very easy\"\n",
    "print(s.find(\"a\")) #2\n",
    "print(s.find(\"a\",3,50)) #24\n",
    "print(s.find(\"d\")) # -1\n",
    "print(s.find(\"python\")) #Index of p"
   ]
  },
  {
   "cell_type": "markdown",
   "metadata": {},
   "source": [
    "## Count()\n",
    "s.count(substring) <br>\n",
    "s.count(sub,begin,end)"
   ]
  },
  {
   "cell_type": "code",
   "execution_count": 88,
   "metadata": {},
   "outputs": [
    {
     "name": "stdout",
     "output_type": "stream",
     "text": [
      "3\n",
      "1\n"
     ]
    }
   ],
   "source": [
    "s =\"abcabcderfgabcxyz\"\n",
    "\n",
    "print(s.count(\"a\"))\n",
    "print(s.count(\"a\",5,20))"
   ]
  },
  {
   "cell_type": "code",
   "execution_count": null,
   "metadata": {},
   "outputs": [],
   "source": []
  }
 ],
 "metadata": {
  "kernelspec": {
   "display_name": "Python 3",
   "language": "python",
   "name": "python3"
  },
  "language_info": {
   "codemirror_mode": {
    "name": "ipython",
    "version": 3
   },
   "file_extension": ".py",
   "mimetype": "text/x-python",
   "name": "python",
   "nbconvert_exporter": "python",
   "pygments_lexer": "ipython3",
   "version": "3.8.5"
  }
 },
 "nbformat": 4,
 "nbformat_minor": 4
}
