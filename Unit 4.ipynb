{
 "cells": [
  {
   "cell_type": "markdown",
   "metadata": {},
   "source": [
    "# Immutable data Structure\n",
    "String\n",
    "tuple"
   ]
  },
  {
   "cell_type": "markdown",
   "metadata": {},
   "source": [
    "# Accessing characters of string\n",
    "1. by using index ljiet(a[3]->e , a[-1] (back) ->t)\n",
    "2. by using Slicing operation"
   ]
  },
  {
   "cell_type": "code",
   "execution_count": 19,
   "metadata": {},
   "outputs": [
    {
     "name": "stdout",
     "output_type": "stream",
     "text": [
      "u\n",
      "y\n",
      "r\n"
     ]
    }
   ],
   "source": [
    "# a=\"Lj university\"\n",
    " \n",
    "print(a[3]) # u\n",
    "print(a[-1]) # y\n",
    "print(a[-5]) # r\n",
    "# print(a[20]) IndexError: string index out of range\n"
   ]
  },
  {
   "cell_type": "markdown",
   "metadata": {},
   "source": [
    "# Access character of string by slicing oprator\n",
    "1. syntax > s[BeginIndex : EndIndex : Step]"
   ]
  },
  {
   "cell_type": "code",
   "execution_count": 8,
   "metadata": {},
   "outputs": [
    {
     "name": "stdout",
     "output_type": "stream",
     "text": [
      "earnin\n",
      "eri\n",
      "earnin\n",
      "Learnin\n",
      "earning python is easy\n",
      "Learning python is easy\n",
      "Learning python is easy\n",
      "Lann yhni ay\n",
      "ysae si nohtyp gninraeL\n",
      "ysa\n",
      "\n"
     ]
    }
   ],
   "source": [
    "s=\"Learning python is easy\"\n",
    "\n",
    "print(s[1:7:1]) #earnin\n",
    "print(s[1:7:2]) #eri\n",
    "print(s[1:7]) #earnin\n",
    "print(s[:7]) #Learnin\n",
    "print(s[1:]) #earning python is easy\n",
    "print(s[::]) #Learning python is easy\n",
    "print(s[:]) #Learning python is easy\n",
    "print(s[::2]) # Lann yhni ay\n",
    "print(s[::-1]) # ysae si nohtyp gninraeL\n",
    "print(s[-1:-4:-1]) #ysa\n",
    "print(s[-1:-4]) #empty no-output"
   ]
  },
  {
   "cell_type": "markdown",
   "metadata": {},
   "source": [
    " 1. (+) --> Concatention\n",
    " 2. (*) -->Repetation or String multiplication"
   ]
  },
  {
   "cell_type": "code",
   "execution_count": 9,
   "metadata": {},
   "outputs": [
    {
     "name": "stdout",
     "output_type": "stream",
     "text": [
      "Manasviba Rana\n",
      "mememe\n"
     ]
    }
   ],
   "source": [
    "print(\"Manasviba \"+\"Rana\")\n",
    "print(\"me\"*3)"
   ]
  },
  {
   "cell_type": "markdown",
   "metadata": {},
   "source": [
    "# Comparision of String"
   ]
  },
  {
   "cell_type": "code",
   "execution_count": 17,
   "metadata": {},
   "outputs": [
    {
     "name": "stdout",
     "output_type": "stream",
     "text": [
      "Enter first String manu\n",
      "Enter second String Manu\n",
      "First String is greater\n"
     ]
    }
   ],
   "source": [
    "s1 = input(\"Enter first String \")\n",
    "s2 = input(\"Enter second String \")\n",
    "\n",
    "if s1==s2:\n",
    "    print(\"Both String are same\")\n",
    "elif s1<s2 : \n",
    "    print(\"Second string is greater\")\n",
    "else :\n",
    "    print(\"First String is greater\")\n",
    "    \n"
   ]
  },
  {
   "cell_type": "markdown",
   "metadata": {},
   "source": [
    "# Joining of String\n"
   ]
  },
  {
   "cell_type": "markdown",
   "metadata": {},
   "source": [
    "Syntax : s = separator.join(group of string)"
   ]
  },
  {
   "cell_type": "code",
   "execution_count": 18,
   "metadata": {},
   "outputs": [
    {
     "name": "stdout",
     "output_type": "stream",
     "text": [
      "Apple-Banana-Cherry\n"
     ]
    }
   ],
   "source": [
    "t = (\"Apple\" , \"Banana\" ,\"Cherry\")\n",
    "\n",
    "x= \"-\".join(t)\n",
    "\n",
    "print(x)"
   ]
  },
  {
   "cell_type": "markdown",
   "metadata": {},
   "source": [
    "# Formatting of String"
   ]
  },
  {
   "cell_type": "code",
   "execution_count": 21,
   "metadata": {},
   "outputs": [
    {
     "name": "stdout",
     "output_type": "stream",
     "text": [
      "Arman's salary is 50000 and age is 25 \n",
      "Arman's salary is 25 and age is 25 \n"
     ]
    }
   ],
   "source": [
    "name = \"Arman\"\n",
    "salary = 50000\n",
    "age = 25\n",
    "\n",
    "print(\"{}'s salary is {} and age is {} \".format(name,salary,age))\n",
    "\n",
    "print(\"{0}'s salary is {2} and age is {2} \".format(name,salary,age))"
   ]
  },
  {
   "cell_type": "markdown",
   "metadata": {},
   "source": [
    "# Important function of String\n",
    "1. len()\n",
    "## Removing space from string\n",
    "1. rstrip()\n",
    "2. lstrip()\n",
    "3. strip()"
   ]
  },
  {
   "cell_type": "code",
   "execution_count": 42,
   "metadata": {
    "scrolled": true
   },
   "outputs": [
    {
     "name": "stdout",
     "output_type": "stream",
     "text": [
      "5\n",
      "Bandana is a fruit\n",
      "Bandana is a fruit\n",
      "7\n",
      "7\n",
      " banan\n",
      " b\n",
      " banana\n",
      " b\n"
     ]
    }
   ],
   "source": [
    "a= 'LJIET'\n",
    "print(len(a))\n",
    "\n",
    "t = \"Bandana\"\n",
    "print(t,\"is a fruit\")\n",
    "x = t.rstrip()\n",
    "\n",
    "print(x,\"is a fruit\")\n",
    "print(len(t)) #9\n",
    "print(len(x)) #7\n",
    "\n",
    "d =\" banana\"\n",
    "y = d.rstrip(\"a\") # if space then wont work it must be last character of string\n",
    "print(y)\n",
    "y = d.rstrip(\"an\") # b\n",
    "print(y) # Band\n",
    "\n",
    "\n",
    "\n",
    "x = d.lstrip(\"b\")\n",
    "print(x)\n",
    "\n",
    "x = d.strip(\"na\" )\n",
    "print(x) #Dounttttt"
   ]
  },
  {
   "cell_type": "markdown",
   "metadata": {},
   "source": [
    "# Changing the case of String\n",
    "\n",
    "1. upper()\n",
    "2. lower()\n",
    "3. swapcase()\n",
    "4. title()\n",
    "5. capitalize()"
   ]
  },
  {
   "cell_type": "code",
   "execution_count": 52,
   "metadata": {},
   "outputs": [
    {
     "name": "stdout",
     "output_type": "stream",
     "text": [
      " HELLO WORLD\n",
      " hello world\n",
      " HELlO WORLD\n",
      " Hello World\n",
      " hello world\n"
     ]
    }
   ],
   "source": [
    "s = \"HelLo world\"\n",
    "\n",
    "x= s.upper()\n",
    "print(x)\n",
    "\n",
    "x = s.lower()\n",
    "print(x)\n",
    "\n",
    "x= s.swapcase()\n",
    "print(x)\n",
    "\n",
    "x = s.title()\n",
    "print(x)\n",
    "\n",
    "x = s.capitalize()\n",
    "print(x)"
   ]
  },
  {
   "cell_type": "markdown",
   "metadata": {},
   "source": [
    "# Check type of character of a string (ans-> True/False)\n",
    "\n",
    "1. isalnum() (A-Z,a-z,0-9) --> Alpha numeric function (space ans-> false)\n",
    "2. isalpha() (A-Z,a-z)\n",
    "3. isdigit() (0-9,superscript,subscript) or isnumeric(0-9,supercrip,subscript,roman,vulgur function)\n",
    "4. islower()\n",
    "5. isupper()\n",
    "6. istitle()\n",
    "7. isidentifier()\n",
    "8. isspace()"
   ]
  },
  {
   "cell_type": "code",
   "execution_count": 72,
   "metadata": {},
   "outputs": [
    {
     "name": "stdout",
     "output_type": "stream",
     "text": [
      "True\n",
      "False\n",
      "True\n",
      "False\n",
      "True\n",
      "False\n",
      "True\n",
      "False\n",
      "True\n"
     ]
    }
   ],
   "source": [
    "t = \"Company1234\"\n",
    "\n",
    "x = t.isalnum()\n",
    "print(x)\n",
    "\n",
    "x = t.isalpha()\n",
    "print(x)\n",
    "\n",
    "p = \"15874814\"\n",
    "x= p.isdigit()\n",
    "print(x)\n",
    "\n",
    "x = t.islower() # Only check alphabet\n",
    "print(x)\n",
    "\n",
    "p= \"Hello World \"  #ONLY FIRST CHARACTER SHOULD BE CAPITAL OTHERWISE ANS IS FALSE\n",
    "x= p.istitle()\n",
    "print(x)\n",
    "\n",
    "p = \" My demo\"\n",
    "x= p.isidentifier()\n",
    "print(x)\n",
    "\n",
    "p = \"demo20\"\n",
    "x= p.isidentifier()\n",
    "print(x)\n",
    "\n",
    "p = \"2demo20\"\n",
    "x= p.isidentifier()\n",
    "print(x)\n",
    "\n",
    "p= \" \"\n",
    "x= p.isspace()\n",
    "print(x)"
   ]
  },
  {
   "cell_type": "code",
   "execution_count": 78,
   "metadata": {},
   "outputs": [
    {
     "name": "stdout",
     "output_type": "stream",
     "text": [
      "Word :  5\n",
      "alphabet  16\n",
      "Uper :  3\n",
      "Lower :  13\n",
      "Space :  4\n",
      "Special :  4\n",
      "Digit :  5\n"
     ]
    }
   ],
   "source": [
    "s =\"Pyt@h$%on is 124 Very Ea$sy43\"\n",
    "\n",
    "alpha = 0\n",
    "upper = 0\n",
    "lower = 0\n",
    "digit = 0\n",
    "space = 0\n",
    "special =0\n",
    "word = 1\n",
    "\n",
    "\n",
    "for i in range(0,len(s)):\n",
    "    if s[i].isdigit() : \n",
    "        digit = digit+1\n",
    "    elif s[i].isupper():\n",
    "        upper = upper +1\n",
    "    elif s[i].islower():\n",
    "        lower = lower + 1\n",
    "    elif s[i].isspace():\n",
    "        space = space +1 \n",
    "        word = word +1\n",
    "    else : \n",
    "        special = special+1\n",
    "        \n",
    "print(\"Word : \", word)\n",
    "print(\"alphabet : \" , upper+lower)\n",
    "print(\"Uper : \", upper)\n",
    "print(\"Lower : \", lower)\n",
    "print(\"Space : \", space)\n",
    "print(\"Special : \", special)\n",
    "print(\"Digit : \", digit)"
   ]
  },
  {
   "cell_type": "markdown",
   "metadata": {},
   "source": [
    "## Find()\n",
    "<br>\n",
    "Syntax : <br> s.find(substring) <br>\n",
    "         s.find(substring,begin,end)\n"
   ]
  },
  {
   "cell_type": "code",
   "execution_count": 86,
   "metadata": {},
   "outputs": [
    {
     "name": "stdout",
     "output_type": "stream",
     "text": [
      "2\n",
      "25\n",
      "-1\n",
      "9\n"
     ]
    }
   ],
   "source": [
    "s = \"Learning python is very easy\"\n",
    "print(s.find(\"a\")) #2\n",
    "print(s.find(\"a\",3,50)) #24\n",
    "print(s.find(\"d\")) # -1\n",
    "print(s.find(\"python\")) #Index of p"
   ]
  },
  {
   "cell_type": "markdown",
   "metadata": {},
   "source": [
    "## Count()\n",
    "s.count(substring) <br>\n",
    "s.count(sub,begin,end)"
   ]
  },
  {
   "cell_type": "code",
   "execution_count": 88,
   "metadata": {},
   "outputs": [
    {
     "name": "stdout",
     "output_type": "stream",
     "text": [
      "3\n",
      "1\n"
     ]
    }
   ],
   "source": [
    "s =\"abcabcderfgabcxyz\"\n",
    "\n",
    "print(s.count(\"a\"))\n",
    "print(s.count(\"a\",5,20))\n"
   ]
  },
  {
   "cell_type": "markdown",
   "metadata": {},
   "source": [
    "## Replace()\n",
    "\n",
    "syntax : s.replace(old,new)"
   ]
  },
  {
   "cell_type": "code",
   "execution_count": 3,
   "metadata": {},
   "outputs": [
    {
     "name": "stdout",
     "output_type": "stream",
     "text": [
      "Learning python is very easy\n"
     ]
    }
   ],
   "source": [
    "s = \"Learning java is very easy\"\n",
    "s1 = s.replace(\"java\",\"python\")\n",
    "\n",
    "print(s1)"
   ]
  },
  {
   "cell_type": "markdown",
   "metadata": {},
   "source": [
    "## Split()\n",
    "\n",
    "syntax : s.split(seprator) --> Ans stored in list"
   ]
  },
  {
   "cell_type": "code",
   "execution_count": 6,
   "metadata": {},
   "outputs": [
    {
     "name": "stdout",
     "output_type": "stream",
     "text": [
      "['Lj', 'University']\n",
      "Lj\n",
      "University\n",
      "['11-11-202', '']\n"
     ]
    }
   ],
   "source": [
    "s = \"Lj University\"\n",
    "s1 = s.split()\n",
    "\n",
    "print(s1)\n",
    "\n",
    "for i in s1:\n",
    "    print(i)\n",
    "    \n",
    "s = \"11-11-2024\"\n",
    "l = s.split(\"4\")\n",
    "print(l)"
   ]
  },
  {
   "cell_type": "markdown",
   "metadata": {},
   "source": [
    "## Remove Punctuation using translate() function\n",
    "\n",
    "Marketrans <br>\n",
    "--> Static method on str type <br>\n",
    "           --> 3 Argument version<br>\n",
    "           --> First two equal length strings<br>\n",
    "           --> Third- each special character in string is mapped to none."
   ]
  },
  {
   "cell_type": "code",
   "execution_count": 11,
   "metadata": {},
   "outputs": [
    {
     "name": "stdout",
     "output_type": "stream",
     "text": [
      "!\"#$%&'()*+,-./:;<=>?@[\\]^_`{|}~\n",
      "{97: 98, 33: None, 34: None, 35: None, 36: None, 37: None, 38: None, 39: None, 40: None, 41: None, 42: None, 43: None, 44: None, 45: None, 46: None, 47: None, 58: None, 59: None, 60: None, 61: None, 62: None, 63: None, 64: None, 91: None, 92: None, 93: None, 94: None, 95: None, 96: None, 123: None, 124: None, 125: None, 126: None}\n"
     ]
    }
   ],
   "source": [
    "import string\n",
    "\n",
    "print(string.punctuation)  #!\"#$%&'()*+,-./:;<=>?@[\\]^_`{|}~ len=32\n",
    "\n",
    "print(str.maketrans(\"a\",\"b\",string.punctuation))"
   ]
  },
  {
   "cell_type": "code",
   "execution_count": 16,
   "metadata": {},
   "outputs": [
    {
     "name": "stdout",
     "output_type": "stream",
     "text": [
      "{33: None, 34: None, 35: None, 36: None, 37: None, 38: None, 39: None, 40: None, 41: None, 42: None, 43: None, 44: None, 45: None, 46: None, 47: None, 58: None, 59: None, 60: None, 61: None, 62: None, 63: None, 64: None, 91: None, 92: None, 93: None, 94: None, 95: None, 96: None, 123: None, 124: None, 125: None, 126: None}\n",
      "Python is very easy\n",
      "{36: None, 33: None}\n",
      "Pyt@hon is very easy\n",
      "{80: 116, 36: None, 33: None}\n",
      "tyt@hon is very easy\n"
     ]
    }
   ],
   "source": [
    "import string \n",
    "\n",
    "t = \"Pyt@$hon is very$ easy!!\"\n",
    "\n",
    "x = str.maketrans(\"\",\"\",string.punctuation)\n",
    "print(x)\n",
    "t = t.translate(x)\n",
    "print(t)\n",
    "\n",
    "t = \"Pyt@$hon is very$ easy!!\"\n",
    "x = str.maketrans(\"\",\"\",\"$!\")\n",
    "print(x)\n",
    "t = t.translate(x)\n",
    "print(t)\n",
    "\n",
    "t = \"Pyt@$hon is very$ easy!!\"\n",
    "x = str.maketrans(\"P\",\"t\",\"$!\") # only two parameters are also valid but length of both the parameter must be same\n",
    "print(x)\n",
    "t = t.translate(x)\n",
    "print(t)"
   ]
  },
  {
   "cell_type": "code",
   "execution_count": 18,
   "metadata": {},
   "outputs": [
    {
     "name": "stdout",
     "output_type": "stream",
     "text": [
      "hi Joe!!\n"
     ]
    }
   ],
   "source": [
    "t =\"hi Sam!!\"\n",
    "x =\"mSa\"\n",
    "y=\"eJo\"\n",
    "\n",
    "table = t.maketrans(x,y)\n",
    "print(t.translate(table))"
   ]
  },
  {
   "cell_type": "markdown",
   "metadata": {},
   "source": [
    "# Tuple\n",
    "\n",
    "1. Same as list except it is immutable\n",
    "2. Read only version of list\n",
    "3. Data is fixed and never changes then we should go for tuple\n",
    "4. Insertion order is preserved\n",
    "5. Duplicates are allowed.\n",
    "6. Heterogeneous objects are allowed.\n",
    "7. Index will play important role in tuple.\n",
    "8. support both +ve and -ve indext.\n",
    "9. Represents with () parenthesis with comma seprator."
   ]
  },
  {
   "cell_type": "markdown",
   "metadata": {},
   "source": [
    "## Creation of tuple\n",
    "\n",
    "t = () <br>\n",
    "t = (10) #Integer <br>\n",
    "t = (10,) # Tuple"
   ]
  },
  {
   "cell_type": "code",
   "execution_count": 21,
   "metadata": {},
   "outputs": [
    {
     "name": "stdout",
     "output_type": "stream",
     "text": [
      "<class 'int'>\n",
      "<class 'tuple'>\n",
      "(10, 12, 14, 16, 18)\n"
     ]
    }
   ],
   "source": [
    "t=(10)\n",
    "print(type(t))\n",
    "\n",
    "t=(10,)\n",
    "print(type(t))\n",
    "\n",
    "\n",
    "t=(tuple(range(10,20,2)))\n",
    "print(t)"
   ]
  },
  {
   "cell_type": "markdown",
   "metadata": {},
   "source": [
    "## Accesing Elements of tuple\n",
    "\n",
    "1. Using Index\n",
    "2. Using slicing"
   ]
  },
  {
   "cell_type": "code",
   "execution_count": 23,
   "metadata": {},
   "outputs": [
    {
     "name": "stdout",
     "output_type": "stream",
     "text": [
      "30\n",
      "60\n",
      "20\n"
     ]
    }
   ],
   "source": [
    "t = (10,20,30,40,50,60)\n",
    "\n",
    "print(t[2])\n",
    "print(t[-1])\n",
    "print(t[-5])\n",
    "# print(t[10]) IndexError: tuple index out of range\n"
   ]
  },
  {
   "cell_type": "code",
   "execution_count": 26,
   "metadata": {},
   "outputs": [
    {
     "name": "stdout",
     "output_type": "stream",
     "text": [
      "(30, 40, 50)\n",
      "(40, 50, 60)\n",
      "(10, 30, 50)\n",
      "()\n"
     ]
    }
   ],
   "source": [
    "t = (10,20,30,40,50,60)\n",
    "print(t[2:5])\n",
    "print(t[3:100])\n",
    "print(t[::2])\n",
    "print(t[-1:-4:-1]) #if 1 INSTED of -1 then ans is blank ()"
   ]
  },
  {
   "cell_type": "markdown",
   "metadata": {},
   "source": [
    "## Mathematical oprations for tuple \n",
    "\n",
    "* (+) --> Concatination\n",
    "* (*) --> Repetition"
   ]
  },
  {
   "cell_type": "code",
   "execution_count": 27,
   "metadata": {},
   "outputs": [
    {
     "name": "stdout",
     "output_type": "stream",
     "text": [
      "(10, 20, 30, 40, 50, 60)\n",
      "(10, 20, 30, 10, 20, 30, 10, 20, 30)\n"
     ]
    }
   ],
   "source": [
    "t1 = (10,20,30)\n",
    "t2 = (40,50,60)\n",
    "\n",
    "t = t1+t2\n",
    "print(t)\n",
    "\n",
    "t = t1*3\n",
    "print(t)"
   ]
  },
  {
   "cell_type": "markdown",
   "metadata": {},
   "source": [
    "## Important functions for Tuple\n",
    "\n",
    "1. len()\n",
    "2. count()\n",
    "3. index()\n",
    "4. sorted()  --> ANS STORED IN LIST SYNTAX : sorted(t)\n",
    "5. min() and max()"
   ]
  },
  {
   "cell_type": "code",
   "execution_count": 29,
   "metadata": {},
   "outputs": [
    {
     "name": "stdout",
     "output_type": "stream",
     "text": [
      "0\n"
     ]
    }
   ],
   "source": [
    "t = (10,20,10,10,20)\n",
    "\n",
    "print(t.index(10))\n",
    "# print(t.index(30)) ValueError: tuple.index(x): x not in tuple"
   ]
  },
  {
   "cell_type": "code",
   "execution_count": 31,
   "metadata": {},
   "outputs": [
    {
     "name": "stdout",
     "output_type": "stream",
     "text": [
      "[40, 30, 20, 10]\n"
     ]
    }
   ],
   "source": [
    "t =(40,20,10,30)\n",
    "t1 = sorted(t, reverse=True)\n",
    "print(t1)"
   ]
  },
  {
   "cell_type": "code",
   "execution_count": 35,
   "metadata": {},
   "outputs": [
    {
     "name": "stdout",
     "output_type": "stream",
     "text": [
      "10\n",
      "60\n",
      "ABC\n",
      "dxz\n"
     ]
    }
   ],
   "source": [
    "t = (10,20,30,40,60,50)\n",
    "\n",
    "print(min(t))\n",
    "print(max(t))\n",
    "\n",
    "t = (\"abc\",\"ABC\",\"def\",\"dxz\")\n",
    "print(min(t))\n",
    "print(max(t))\n",
    "\n",
    "\n",
    "# t = (\"abc\",\"ABC\",\"def\",\"dxz\" , 20 ,40,60,80)  TypeError: '<' not supported between instances of 'int' and 'str'\n",
    "# print(min(t))\n",
    "# print(max(t))"
   ]
  },
  {
   "cell_type": "markdown",
   "metadata": {},
   "source": [
    "## Tuple packing"
   ]
  },
  {
   "cell_type": "code",
   "execution_count": 36,
   "metadata": {},
   "outputs": [
    {
     "name": "stdout",
     "output_type": "stream",
     "text": [
      "(10, 20, 30, 40)\n"
     ]
    }
   ],
   "source": [
    "a = 10\n",
    "b =20\n",
    "c = 30\n",
    "d = 40\n",
    "t = a,b,c,d\n",
    "print(t)"
   ]
  },
  {
   "cell_type": "markdown",
   "metadata": {},
   "source": [
    "## Tuple unpacking"
   ]
  },
  {
   "cell_type": "code",
   "execution_count": 39,
   "metadata": {},
   "outputs": [
    {
     "name": "stdout",
     "output_type": "stream",
     "text": [
      "10 20 330 40\n"
     ]
    }
   ],
   "source": [
    "t = (10,20,330,40)\n",
    "\n",
    "a,b,c,d=t\n",
    "print(a,b,c,d)\n",
    "\n",
    "\n",
    "# a,b,c = t ValueError: too many values to unpack (expected 3)"
   ]
  },
  {
   "cell_type": "markdown",
   "metadata": {},
   "source": [
    "## Loop through Tuples"
   ]
  },
  {
   "cell_type": "code",
   "execution_count": 41,
   "metadata": {},
   "outputs": [
    {
     "name": "stdout",
     "output_type": "stream",
     "text": [
      "Hu\n",
      "hruygeu\n",
      "hehehe\n",
      "Hu\n",
      "hruygeu\n",
      "hehehe\n"
     ]
    }
   ],
   "source": [
    "t = (\"Hu\",\"hruygeu\",\"hehehe\")\n",
    "\n",
    "for i in t :\n",
    "    print(i)\n",
    "    \n",
    "    \n",
    "i = 0\n",
    "while i<len(t):\n",
    "    print(t[i])\n",
    "    i = i+1"
   ]
  },
  {
   "cell_type": "markdown",
   "metadata": {},
   "source": [
    "## reversed()\n",
    "\n",
    "* Method computes reverse of given sequence object return in the form of list"
   ]
  },
  {
   "cell_type": "code",
   "execution_count": 45,
   "metadata": {},
   "outputs": [
    {
     "name": "stdout",
     "output_type": "stream",
     "text": [
      "['n', 'o', 'h', 't', 'y', 'P']\n",
      "['h', 't', 'y', 'p']\n",
      "[8, 7, 6, 5]\n",
      "[4, 3, 5, 2, 1]\n"
     ]
    }
   ],
   "source": [
    "s =\"Python\"\n",
    "\n",
    "print(list(reversed(s)))\n",
    "\n",
    "x = (\"p\",\"y\",\"t\",\"h\")\n",
    "print(list(reversed(x)))\n",
    "\n",
    "y = range(5,9)\n",
    "print(list(reversed(y)))\n",
    "z = [1,2,5,3,4]\n",
    "print(list(reversed(z)))"
   ]
  },
  {
   "cell_type": "markdown",
   "metadata": {},
   "source": [
    "## enumerate()"
   ]
  },
  {
   "cell_type": "code",
   "execution_count": 50,
   "metadata": {},
   "outputs": [
    {
     "name": "stdout",
     "output_type": "stream",
     "text": [
      "[(0, 'eat'), (1, 'sleep'), (2, 'repeat')]\n",
      "[(2, 'eat'), (3, 'sleep'), (4, 'repeat')]\n",
      "[(0, 'e'), (1, 'a'), (2, 't')]\n",
      "(0, 'H') -->\n",
      "(1, 'e') -->\n",
      "(2, 'l') -->\n",
      "(3, 'l') -->\n",
      "(4, 'o') -->\n",
      "(5, ' ') -->\n",
      "(6, 'h') -->\n",
      "(7, 'o') -->\n",
      "(8, 'w') -->\n",
      "(9, ' ') -->\n",
      "(10, 'a') -->\n",
      "(11, 'r') -->\n",
      "(12, 'e') -->\n",
      "(13, ' ') -->\n",
      "(14, 'y') -->\n",
      "(15, 'o') -->\n",
      "(16, 'u') -->\n"
     ]
    }
   ],
   "source": [
    "l =(\"eat\",\"sleep\",\"repeat\")\n",
    "\n",
    "print(list(enumerate(l)))\n",
    "\n",
    "print(list(enumerate(l,2)))\n",
    "\n",
    "l =\"eat\"\n",
    "\n",
    "print(list(enumerate(l)))\n",
    "\n",
    "\n",
    "l =\"Hello how are you\"\n",
    "\n",
    "for a in enumerate(l):\n",
    "    print(a,\"-->\")"
   ]
  },
  {
   "cell_type": "code",
   "execution_count": 57,
   "metadata": {},
   "outputs": [
    {
     "name": "stdout",
     "output_type": "stream",
     "text": [
      "Enter index : 2\n",
      "Helo world\n"
     ]
    }
   ],
   "source": [
    "#wt a program to remove ith character from string \n",
    "\n",
    "n = int(input(\"Enter index : \"))\n",
    "s = \"Hello world\"\n",
    "b = s[0 : n] + s[n+1 : ]\n",
    "# for i in range(len(s)): \n",
    "#     if i == n : \n",
    "#         pass\n",
    "#     else :\n",
    "#         b = b + s[i]\n",
    "        \n",
    "        \n",
    "print(b)        "
   ]
  },
  {
   "cell_type": "code",
   "execution_count": 4,
   "metadata": {},
   "outputs": [
    {
     "name": "stdout",
     "output_type": "stream",
     "text": [
      "4\n"
     ]
    }
   ],
   "source": [
    "#wp to find all accurance of a substring in a given string ignore cap\n",
    "\n",
    "\n",
    "s=\"Welcome to USA usa is awesome usain is from usa\"\n",
    "s = s.lower()\n",
    "\n",
    "print(s.count(\"usa\"))"
   ]
  },
  {
   "cell_type": "code",
   "execution_count": 13,
   "metadata": {},
   "outputs": [
    {
     "name": "stdout",
     "output_type": "stream",
     "text": [
      "Enter stringg! dfdf% kshdj**&\n",
      "dfdf##kshdj###\n"
     ]
    }
   ],
   "source": [
    "#wt a program to replace each special symbol with # in the string\n",
    "\n",
    "import string \n",
    "\n",
    "s = input(\"Enter stringg! \")\n",
    "x=\"\"\n",
    "for i in s:\n",
    "    p = \"\"+i\n",
    "    if p.isalpha():\n",
    "        x = x+i\n",
    "    else :\n",
    "        x= x +\"#\"\n",
    "print(x)\n"
   ]
  },
  {
   "cell_type": "code",
   "execution_count": 7,
   "metadata": {},
   "outputs": [
    {
     "name": "stdout",
     "output_type": "stream",
     "text": [
      "Enter stringg! hjudfghu% hfudyh&\n",
      "hjudfghu# hfudyh#\n"
     ]
    }
   ],
   "source": [
    "s = input(\"Enter stringg! \")\n",
    "\n",
    "for i in string.punctuation:\n",
    "    s=s.replace(i,'#')\n",
    "print(s)"
   ]
  },
  {
   "cell_type": "code",
   "execution_count": 20,
   "metadata": {},
   "outputs": [
    {
     "name": "stdout",
     "output_type": "stream",
     "text": [
      "MAX :  DEF\n",
      "MIN :  ABC\n"
     ]
    }
   ],
   "source": [
    "#wp program to print minimum and maximum element in given tuple without use of max min and shorting\n",
    "\n",
    "\n",
    "t=(\"ABC\",\"DEF\")\n",
    "min = t[0]\n",
    "max = t[0]\n",
    "\n",
    "for i in t:\n",
    "    if i<min:\n",
    "        min = i\n",
    "    elif i>max:\n",
    "        max = i\n",
    "        \n",
    "        \n",
    "print(\"MAX : \",max)\n",
    "print(\"MIN : \",min)"
   ]
  },
  {
   "cell_type": "code",
   "execution_count": 24,
   "metadata": {},
   "outputs": [
    {
     "name": "stdout",
     "output_type": "stream",
     "text": [
      "Enter String! : Welcome to Lj University\n",
      "to Lj University "
     ]
    }
   ],
   "source": [
    "#WP TO print even length word in given string\n",
    "\n",
    "s = input(\"Enter String! : \")\n",
    "\n",
    "s = s.split()\n",
    "c = 0\n",
    "for i in s :\n",
    "    if len(i) %2==0 :\n",
    "        print(i,end=\" \")\n",
    "        \n",
    "       "
   ]
  },
  {
   "cell_type": "code",
   "execution_count": 55,
   "metadata": {},
   "outputs": [
    {
     "name": "stdout",
     "output_type": "stream",
     "text": [
      "WelcomE TO LJ UniversitY\n"
     ]
    }
   ],
   "source": [
    "#wp to capitalize first and last latter of each word\n",
    "\n",
    "s = \"welcome to LJ university\"\n",
    "s = s.title()\n",
    "x=\"\"\n",
    "\n",
    "\n",
    "for i in s.split() : \n",
    "    x =x+ i[:-1]+i[-1].upper()+\" \"\n",
    "\n",
    "\n",
    "print(x.rstrip())"
   ]
  },
  {
   "cell_type": "code",
   "execution_count": 63,
   "metadata": {},
   "outputs": [
    {
     "name": "stdout",
     "output_type": "stream",
     "text": [
      "Enter string 1: jet\n",
      "Enter String 2: jeet\n",
      "Same\n"
     ]
    }
   ],
   "source": [
    "#wp to cheack two strtings are balanced or not\n",
    "\n",
    "s1 = input(\"Enter string 1: \")\n",
    "s2 = input(\"Enter String 2: \")\n",
    "c = 0\n",
    "for i in s1:\n",
    "    if i in s2 : \n",
    "        c= c+1\n",
    "        \n",
    "if c == len(s1):\n",
    "    print(\"Same\")\n",
    "else :\n",
    "    print(\"Not\")"
   ]
  },
  {
   "cell_type": "code",
   "execution_count": 86,
   "metadata": {},
   "outputs": [
    {
     "name": "stdout",
     "output_type": "stream",
     "text": [
      "Enter Number : 12345\n",
      "Enter shift : 3\n",
      "54123\n"
     ]
    }
   ],
   "source": [
    "#wp to sift the decimal digit and places to the left rapping the extra digit around if shift is greater then  number of digit thrn reverse\n",
    "\n",
    "n1 = int(input(\"Enter Number : \"))\n",
    "shift = int(input(\"Enter shift : \"))\n",
    "\n",
    "s = str(n1)\n",
    "if shift>len(s):\n",
    "    s = s[::-1]\n",
    "else:\n",
    "    s = s[-1:shift-len(s)-1:-1] + s[:shift]\n",
    "\n",
    "print(s)\n"
   ]
  },
  {
   "cell_type": "code",
   "execution_count": 93,
   "metadata": {},
   "outputs": [
    {
     "name": "stdout",
     "output_type": "stream",
     "text": [
      "Enter password : jhsdjusgA1&\n",
      "Not valid\n"
     ]
    }
   ],
   "source": [
    "#wp to check validity of password \n",
    "\n",
    "s = input(\"Enter password : \")\n",
    "number = 0\n",
    "capi = 0\n",
    "char = 0\n",
    "other = 0\n",
    "if len(s)>=8:\n",
    "    for i in s :\n",
    "        if i.isupper():\n",
    "            capi = 1\n",
    "        elif i.isdigit():\n",
    "            number = 1\n",
    "        elif i.islower():\n",
    "            pass\n",
    "        elif i ==\"@\" or i ==\"_\" or i == \"$\":\n",
    "            char = 1\n",
    "        else : \n",
    "            other = 1\n",
    "else :\n",
    "      other = 1\n",
    "\n",
    "if other == 1 or number == 0 or capi == 0 or char == 0:\n",
    "    print(\"Not valid\")\n",
    "else :\n",
    "    print(\"Valid\")"
   ]
  },
  {
   "cell_type": "code",
   "execution_count": 25,
   "metadata": {},
   "outputs": [
    {
     "name": "stdout",
     "output_type": "stream",
     "text": [
      "Position :  0\n",
      "Position :  3\n",
      "Position :  13\n",
      "Position :  16\n",
      "4\n"
     ]
    }
   ],
   "source": [
    "#wt a program to display all positions of a sub string in a given string\n",
    "\n",
    "s = \"abcabcdhgfdcbabca\"\n",
    "\n",
    "sub = s.count(\"a\")\n",
    "sp =0\n",
    "for i in range(sub): \n",
    "    sp = s.find('a',sp, len(s))\n",
    "    print(\"Position : \", sp)\n",
    "    sp = sp+1\n",
    "    \n",
    "   \n",
    "print(sub)"
   ]
  },
  {
   "cell_type": "code",
   "execution_count": 39,
   "metadata": {},
   "outputs": [
    {
     "name": "stdout",
     "output_type": "stream",
     "text": [
      "Enter String : ndfjd746586gbfy634\n",
      "bddffgjny344566678\n",
      "bddffgjny344566678\n"
     ]
    }
   ],
   "source": [
    "#wt a program to short the characters of the strings and first alphabet symbols follwed by numerical values.\n",
    "\n",
    "s = input(\"Enter String : \")\n",
    "al = \"\"\n",
    "num = \"\"\n",
    "for i in sorted(s) : \n",
    "    if i.isalpha() :\n",
    "        al = al + i\n",
    "    elif i.isdigit():\n",
    "        num = num + i\n",
    "\n",
    "        \n",
    "print(al + num)        \n",
    "    \n",
    "    "
   ]
  },
  {
   "cell_type": "code",
   "execution_count": 51,
   "metadata": {},
   "outputs": [
    {
     "name": "stdout",
     "output_type": "stream",
     "text": [
      "aaaabbbbcc\n"
     ]
    }
   ],
   "source": [
    "#Input a4b4c2 ans == aaaabbbcc\n",
    "\n",
    "s =\"a4b4c2\"\n",
    "\n",
    "ans = \"\"\n",
    "for i in range(0,len(s),2):\n",
    "    ans = ans + (s[i]*int(s[i+1]))\n",
    "    \n",
    "\n",
    "print(ans)   "
   ]
  },
  {
   "cell_type": "code",
   "execution_count": 58,
   "metadata": {},
   "outputs": [
    {
     "name": "stdout",
     "output_type": "stream",
     "text": [
      "Total count :  2\n"
     ]
    }
   ],
   "source": [
    "#wt a program to count number of strings where the string length i s 3 or more and the first and last character are same from given list of string\n",
    "\n",
    "l = [\"abc\",\"xyz\",\"2112\",\"aba\",\"1234551\",\"123456\"]\n",
    "c = 0\n",
    "for i in l :\n",
    "    p = len(i)\n",
    "    if i[0] == i[p-1]:\n",
    "        if len(i)>= 3:\n",
    "            c = c+1\n",
    "            \n",
    "print(\"Total count : \", c)            "
   ]
  },
  {
   "cell_type": "code",
   "execution_count": null,
   "metadata": {},
   "outputs": [],
   "source": []
  }
 ],
 "metadata": {
  "kernelspec": {
   "display_name": "Python 3",
   "language": "python",
   "name": "python3"
  },
  "language_info": {
   "codemirror_mode": {
    "name": "ipython",
    "version": 3
   },
   "file_extension": ".py",
   "mimetype": "text/x-python",
   "name": "python",
   "nbconvert_exporter": "python",
   "pygments_lexer": "ipython3",
   "version": "3.8.5"
  }
 },
 "nbformat": 4,
 "nbformat_minor": 4
}
